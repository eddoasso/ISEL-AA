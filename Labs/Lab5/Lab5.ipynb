{
 "cells": [
  {
   "cell_type": "markdown",
   "metadata": {},
   "source": [
    "# Lab5 \n",
    "## Generalização de Modelos Lineares"
   ]
  },
  {
   "cell_type": "markdown",
   "metadata": {},
   "source": [
    "## Determinantes Logisticos"
   ]
  },
  {
   "cell_type": "code",
   "execution_count": 1,
   "metadata": {},
   "outputs": [],
   "source": [
    "import numpy as np\n",
    "import matplotlib.pyplot as plt\n",
    "import pickle\n",
    "\n",
    "from sklearn.linear_model import LogisticRegression"
   ]
  },
  {
   "cell_type": "code",
   "execution_count": 2,
   "metadata": {},
   "outputs": [],
   "source": [
    "D = pickle.load(open('binClassData.p', 'rb'))\n",
    "X1 = D['Xtrain']\n",
    "y1 = D['trueClassTrain']\n",
    "X2 = D['Xtest']\n",
    "y2 = D['trueClassTest']"
   ]
  },
  {
   "cell_type": "code",
   "execution_count": 3,
   "metadata": {},
   "outputs": [
    {
     "data": {
      "image/png": "[encoded data removed]",
      "text/plain": [
       "<Figure size 432x288 with 1 Axes>"
      ]
     },
     "metadata": {
      "needs_background": "light"
     },
     "output_type": "display_data"
    }
   ],
   "source": [
    "plt.plot(X1[0,y1==0], X1[1, y1==0] , 'sb' , X1[0,y1==1], X1[1,y1==1], 'sr', alpha=.4)\n",
    "plt.plot(X2[0,y2==0], X2[1, y2==0] , '*b' , X2[0,y2==1], X2[1,y2==1], '*r', ms=10)\n",
    "plt.axis('scaled')\n",
    "plt.grid(True)"
   ]
  },
  {
   "cell_type": "code",
   "execution_count": 4,
   "metadata": {},
   "outputs": [
    {
     "name": "stdout",
     "output_type": "stream",
     "text": [
      "Train Score: 0.87\n",
      "Test Score : 0.82\n"
     ]
    }
   ],
   "source": [
    "dl=LogisticRegression(penalty='l2', C=.1, random_state=42, solver='saga').fit(X1.T, y1)\n",
    "print('Train Score:' , dl.score(X1.T, y1))\n",
    "print('Test Score :' , dl.score(X2.T, y2))"
   ]
  },
  {
   "cell_type": "code",
   "execution_count": 5,
   "metadata": {},
   "outputs": [
    {
     "name": "stdout",
     "output_type": "stream",
     "text": [
      "w0 [0.0583961]\n",
      "w [ 1.28535287 -0.03823838]\n",
      "x1 [-2  2]\n",
      "x2 [-65.70125064  68.75556908]\n"
     ]
    },
    {
     "data": {
      "image/png": "[encoded data removed]",
      "text/plain": [
       "<Figure size 432x288 with 1 Axes>"
      ]
     },
     "metadata": {
      "needs_background": "light"
     },
     "output_type": "display_data"
    }
   ],
   "source": [
    "w = dl.coef_.squeeze()\n",
    "w0 = dl.intercept_\n",
    "print('w0', w0)\n",
    "print('w', w)\n",
    "\n",
    "\n",
    "x1=np.array([-2,2])\n",
    "x2 = -1/w[1]*(w0+w[0]*x1)\n",
    "print('x1', x1)\n",
    "print('x2', x2)\n",
    "\n",
    "plt.plot(X1[0,y1==0], X1[1, y1==0] , 'sb' , X1[0,y1==1], X1[1,y1==1], 'sr', alpha=.4)\n",
    "plt.plot(X2[0,y2==0], X2[1, y2==0] , '*b' , X2[0,y2==1], X2[1,y2==1], '*r', ms=10)\n",
    "plt.plot(x1,x2,'--k')\n",
    "plt.axis('scaled')\n",
    "plt.axis([-2,2,-1.5,1.5])\n",
    "plt.grid(True)"
   ]
  },
  {
   "cell_type": "markdown",
   "metadata": {},
   "source": [
    "## Classificacao binario : Breast cancer dataset"
   ]
  },
  {
   "cell_type": "code",
   "execution_count": 6,
   "metadata": {
    "scrolled": true
   },
   "outputs": [
    {
     "name": "stdout",
     "output_type": "stream",
     "text": [
      ".. _breast_cancer_dataset:\n",
      "\n",
      "Breast cancer wisconsin (diagnostic) dataset\n",
      "--------------------------------------------\n",
      "\n",
      "**Data Set Characteristics:**\n",
      "\n",
      "    :Number of Instances: 569\n",
      "\n",
      "    :Number of Attributes: 30 numeric, predictive attributes and the class\n",
      "\n",
      "    :Attribute Information:\n",
      "        - radius (mean of distances from center to points on the perimeter)\n",
      "        - texture (standard deviation of gray-scale values)\n",
      "        - perimeter\n",
      "        - area\n",
      "        - smoothness (local variation in radius lengths)\n",
      "        - compactness (perimeter^2 / area - 1.0)\n",
      "        - concavity (severity of concave portions of the contour)\n",
      "        - concave points (number of concave portions of the contour)\n",
      "        - symmetry\n",
      "        - fractal dimension (\"coastline approximation\" - 1)\n",
      "\n",
      "        The mean, standard error, and \"worst\" or largest (mean of the three\n",
      "        worst/largest values) of these features were computed for each image,\n",
      "        resulting in 30 features.  For instance, field 0 is Mean Radius, field\n",
      "        10 is Radius SE, field 20 is Worst Radius.\n",
      "\n",
      "        - class:\n",
      "                - WDBC-Malignant\n",
      "                - WDBC-Benign\n",
      "\n",
      "    :Summary Statistics:\n",
      "\n",
      "    ===================================== ====== ======\n",
      "                                           Min    Max\n",
      "    ===================================== ====== ======\n",
      "    radius (mean):                        6.981  28.11\n",
      "    texture (mean):                       9.71   39.28\n",
      "    perimeter (mean):                     43.79  188.5\n",
      "    area (mean):                          143.5  2501.0\n",
      "    smoothness (mean):                    0.053  0.163\n",
      "    compactness (mean):                   0.019  0.345\n",
      "    concavity (mean):                     0.0    0.427\n",
      "    concave points (mean):                0.0    0.201\n",
      "    symmetry (mean):                      0.106  0.304\n",
      "    fractal dimension (mean):             0.05   0.097\n",
      "    radius (standard error):              0.112  2.873\n",
      "    texture (standard error):             0.36   4.885\n",
      "    perimeter (standard error):           0.757  21.98\n",
      "    area (standard error):                6.802  542.2\n",
      "    smoothness (standard error):          0.002  0.031\n",
      "    compactness (standard error):         0.002  0.135\n",
      "    concavity (standard error):           0.0    0.396\n",
      "    concave points (standard error):      0.0    0.053\n",
      "    symmetry (standard error):            0.008  0.079\n",
      "    fractal dimension (standard error):   0.001  0.03\n",
      "    radius (worst):                       7.93   36.04\n",
      "    texture (worst):                      12.02  49.54\n",
      "    perimeter (worst):                    50.41  251.2\n",
      "    area (worst):                         185.2  4254.0\n",
      "    smoothness (worst):                   0.071  0.223\n",
      "    compactness (worst):                  0.027  1.058\n",
      "    concavity (worst):                    0.0    1.252\n",
      "    concave points (worst):               0.0    0.291\n",
      "    symmetry (worst):                     0.156  0.664\n",
      "    fractal dimension (worst):            0.055  0.208\n",
      "    ===================================== ====== ======\n",
      "\n",
      "    :Missing Attribute Values: None\n",
      "\n",
      "    :Class Distribution: 212 - Malignant, 357 - Benign\n",
      "\n",
      "    :Creator:  Dr. William H. Wolberg, W. Nick Street, Olvi L. Mangasarian\n",
      "\n",
      "    :Donor: Nick Street\n",
      "\n",
      "    :Date: November, 1995\n",
      "\n",
      "This is a copy of UCI ML Breast Cancer Wisconsin (Diagnostic) datasets.\n",
      "https://goo.gl/U2Uwz2\n",
      "\n",
      "Features are computed from a digitized image of a fine needle\n",
      "aspirate (FNA) of a breast mass.  They describe\n",
      "characteristics of the cell nuclei present in the image.\n",
      "\n",
      "Separating plane described above was obtained using\n",
      "Multisurface Method-Tree (MSM-T) [K. P. Bennett, \"Decision Tree\n",
      "Construction Via Linear Programming.\" Proceedings of the 4th\n",
      "Midwest Artificial Intelligence and Cognitive Science Society,\n",
      "pp. 97-101, 1992], a classification method which uses linear\n",
      "programming to construct a decision tree.  Relevant features\n",
      "were selected using an exhaustive search in the space of 1-4\n",
      "features and 1-3 separating planes.\n",
      "\n",
      "The actual linear program used to obtain the separating plane\n",
      "in the 3-dimensional space is that described in:\n",
      "[K. P. Bennett and O. L. Mangasarian: \"Robust Linear\n",
      "Programming Discrimination of Two Linearly Inseparable Sets\",\n",
      "Optimization Methods and Software 1, 1992, 23-34].\n",
      "\n",
      "This database is also available through the UW CS ftp server:\n",
      "\n",
      "ftp ftp.cs.wisc.edu\n",
      "cd math-prog/cpo-dataset/machine-learn/WDBC/\n",
      "\n",
      ".. topic:: References\n",
      "\n",
      "   - W.N. Street, W.H. Wolberg and O.L. Mangasarian. Nuclear feature extraction \n",
      "     for breast tumor diagnosis. IS&T/SPIE 1993 International Symposium on \n",
      "     Electronic Imaging: Science and Technology, volume 1905, pages 861-870,\n",
      "     San Jose, CA, 1993.\n",
      "   - O.L. Mangasarian, W.N. Street and W.H. Wolberg. Breast cancer diagnosis and \n",
      "     prognosis via linear programming. Operations Research, 43(4), pages 570-577, \n",
      "     July-August 1995.\n",
      "   - W.H. Wolberg, W.N. Street, and O.L. Mangasarian. Machine learning techniques\n",
      "     to diagnose breast cancer from fine-needle aspirates. Cancer Letters 77 (1994) \n",
      "     163-171.\n"
     ]
    }
   ],
   "source": [
    "from sklearn.datasets import load_breast_cancer\n",
    "from sklearn.model_selection import train_test_split\n",
    "\n",
    "D = load_breast_cancer()\n",
    "X = D.data\n",
    "y = D.target\n",
    "fN = D.feature_names\n",
    "print(D.DESCR)"
   ]
  },
  {
   "cell_type": "code",
   "execution_count": 7,
   "metadata": {},
   "outputs": [
    {
     "name": "stdout",
     "output_type": "stream",
     "text": [
      "Train Score: 0.9182058047493403\n",
      "Test Score : 0.9210526315789473\n"
     ]
    }
   ],
   "source": [
    "X1, X2, y1, y2 = train_test_split(X, y, test_size=1/3)\n",
    "dl = LogisticRegression(penalty='l2', C=.1, random_state=42, solver='saga', max_iter=5000).fit(X1,y1)\n",
    "print('Train Score:' , dl.score(X1, y1))\n",
    "print('Test Score :' , dl.score(X2, y2))"
   ]
  },
  {
   "cell_type": "code",
   "execution_count": 8,
   "metadata": {},
   "outputs": [
    {
     "name": "stdout",
     "output_type": "stream",
     "text": [
      "[ 1.28700386e-02  6.77334049e-03  6.68388697e-02  1.87301348e-02\n",
      "  8.51761001e-05 -2.69615926e-04 -5.16924252e-04 -2.13297304e-04\n",
      "  1.81766825e-04  8.03952061e-05  1.36464258e-04  7.91855175e-04\n",
      " -1.29596333e-03 -2.02104268e-02  9.55583515e-06 -5.66344319e-05\n",
      " -7.41079078e-05 -1.95000858e-05  1.65576739e-05 -1.62742195e-06\n",
      "  1.35193419e-02  5.21273049e-03  5.72954660e-02 -2.94818492e-02\n",
      "  9.17504555e-05 -1.06453414e-03 -1.49633842e-03 -3.87661788e-04\n",
      "  1.41040015e-04  7.40079496e-06]\n"
     ]
    }
   ],
   "source": [
    "w = dl.coef_\n",
    "w = w.squeeze()\n",
    "print(w)"
   ]
  },
  {
   "cell_type": "code",
   "execution_count": 9,
   "metadata": {},
   "outputs": [
    {
     "data": {
      "image/png": "[encoded data removed]",
      "text/plain": [
       "<Figure size 432x288 with 1 Axes>"
      ]
     },
     "metadata": {
      "needs_background": "light"
     },
     "output_type": "display_data"
    }
   ],
   "source": [
    "plt.plot(w,'.')\n",
    "plt.grid(True)"
   ]
  },
  {
   "cell_type": "code",
   "execution_count": 10,
   "metadata": {},
   "outputs": [
    {
     "data": {
      "text/plain": [
       "0"
      ]
     },
     "execution_count": 10,
     "metadata": {},
     "output_type": "execute_result"
    }
   ],
   "source": [
    "np.sum(w==0)"
   ]
  },
  {
   "cell_type": "code",
   "execution_count": 11,
   "metadata": {},
   "outputs": [
    {
     "name": "stdout",
     "output_type": "stream",
     "text": [
      "['mean radius' 'mean texture' 'mean perimeter' 'mean area'\n",
      " 'mean smoothness' 'mean compactness' 'mean concavity'\n",
      " 'mean concave points' 'mean symmetry' 'mean fractal dimension'\n",
      " 'radius error' 'texture error' 'perimeter error' 'area error'\n",
      " 'smoothness error' 'compactness error' 'concavity error'\n",
      " 'concave points error' 'symmetry error' 'fractal dimension error'\n",
      " 'worst radius' 'worst texture' 'worst perimeter' 'worst area'\n",
      " 'worst smoothness' 'worst compactness' 'worst concavity'\n",
      " 'worst concave points' 'worst symmetry' 'worst fractal dimension']\n",
      "[[ 0]\n",
      " [ 1]\n",
      " [ 2]\n",
      " [ 3]\n",
      " [ 4]\n",
      " [ 5]\n",
      " [ 6]\n",
      " [ 7]\n",
      " [ 8]\n",
      " [ 9]\n",
      " [10]\n",
      " [11]\n",
      " [12]\n",
      " [13]\n",
      " [14]\n",
      " [15]\n",
      " [16]\n",
      " [17]\n",
      " [18]\n",
      " [19]\n",
      " [20]\n",
      " [21]\n",
      " [22]\n",
      " [23]\n",
      " [24]\n",
      " [25]\n",
      " [26]\n",
      " [27]\n",
      " [28]\n",
      " [29]]\n"
     ]
    }
   ],
   "source": [
    "print(fN[w!=0])\n",
    "print(np.argwhere(w!=0))"
   ]
  },
  {
   "cell_type": "markdown",
   "metadata": {},
   "source": [
    "## Classificacao multi-classe"
   ]
  },
  {
   "cell_type": "code",
   "execution_count": 21,
   "metadata": {},
   "outputs": [
    {
     "data": {
      "image/png": "[encoded data removed]",
      "text/plain": [
       "<Figure size 1440x720 with 1 Axes>"
      ]
     },
     "metadata": {
      "needs_background": "light"
     },
     "output_type": "display_data"
    }
   ],
   "source": [
    "from sklearn.datasets import load_iris\n",
    "\n",
    "D = load_iris()\n",
    "X = D.data\n",
    "y = D.target\n",
    "\n",
    "X1, X2, y1, y2 = train_test_split(X, y, test_size=1/3)\n",
    "plt.figure(figsize=(20,10))\n",
    "\n",
    "plt.plot(X1[y1==0,0], X1[y1==0,2],'sr',X1[y1==1,0],X1[y1==1,2],'sb', X1[y1==2,0],X1[y1==2,2],'sg',alpha=.4)\n",
    "plt.plot(X2[y2==0,0], X2[y2==0,2],'*r',X2[y2==1,0],X2[y2==1,2],'*b', X2[y2==2,0],X2[y2==2,2],'sg',ms=10)\n",
    "plt.axis('scaled')\n",
    "plt.grid(True)"
   ]
  },
  {
   "cell_type": "code",
   "execution_count": 22,
   "metadata": {},
   "outputs": [
    {
     "name": "stdout",
     "output_type": "stream",
     "text": [
      "Num erros  6\n",
      "[[ 0.          0.78254249 -1.05882419  0.        ]\n",
      " [ 0.         -0.1594888   0.          0.        ]\n",
      " [-0.67786608  0.          0.85976793  0.        ]]\n"
     ]
    },
    {
     "data": {
      "image/png": "[encoded data removed]",
      "text/plain": [
       "<Figure size 1440x720 with 1 Axes>"
      ]
     },
     "metadata": {
      "needs_background": "light"
     },
     "output_type": "display_data"
    }
   ],
   "source": [
    "dl = LogisticRegression(solver='liblinear', C=0.1, penalty='l1').fit(X1,y1)\n",
    "y2e = dl.predict(X2)\n",
    "print('Num erros ', np.sum(y2!=y2e))\n",
    "print(dl.coef_)\n",
    "plt.figure(figsize=(20,10))\n",
    "plt.plot(X1[y1==0,0], X1[y1==0,2],'sr',X1[y1==1,0],X1[y1==1,2],'sb', X1[y1==2,0],X1[y1==2,2],'sg',alpha=.4)\n",
    "plt.plot(X2[y2==0,0], X2[y2==0,2],'*r',X2[y2==1,0],X2[y2==1,2],'*b', X2[y2==2,0],X2[y2==2,2],'sg',ms=10)\n",
    "plt.plot(X2[y2!=y2e,0], X2[y2!=y2e,2],'ok', alpha=.5, ms=12)\n",
    "plt.axis('scaled')\n",
    "plt.grid(True)"
   ]
  },
  {
   "cell_type": "code",
   "execution_count": 15,
   "metadata": {},
   "outputs": [
    {
     "name": "stdout",
     "output_type": "stream",
     "text": [
      "Num erros  4\n",
      "[[ 0.          0.         -1.40879618  0.        ]\n",
      " [ 0.          0.          0.          0.        ]\n",
      " [ 0.          0.          1.27484918  0.        ]]\n"
     ]
    }
   ],
   "source": [
    "dl = LogisticRegression(solver='saga', C=0.1, penalty='l1', multi_class='multinomial', max_iter=1000).fit(X1,y1)\n",
    "y2e = dl.predict(X2)\n",
    "print('Num erros ', np.sum(y2!=y2e))\n",
    "print(dl.coef_)"
   ]
  },
  {
   "cell_type": "markdown",
   "metadata": {},
   "source": [
    "## Máquinas suporte vetorial\n",
    " Com dados gerados aleatoriamente"
   ]
  },
  {
   "cell_type": "code",
   "execution_count": 37,
   "metadata": {},
   "outputs": [
    {
     "data": {
      "image/png": "[encoded data removed]",
      "text/plain": [
       "<Figure size 360x504 with 1 Axes>"
      ]
     },
     "metadata": {
      "needs_background": "light"
     },
     "output_type": "display_data"
    }
   ],
   "source": [
    "from sklearn.svm import LinearSVC , SVC\n",
    "\n",
    "\n",
    "## Exemplo de dados gaussianos\n",
    "\n",
    "Nc = 100\n",
    "x1 = np.random.randn(2,Nc)*.6-1 \n",
    "x2= np.random.randn(2,Nc)*.6+1\n",
    "y=np.hstack((np.zeros(Nc), np.ones(Nc)))\n",
    "X=np.hstack((x1,x2))\n",
    "\n",
    "plt.figure(figsize=(5,7))\n",
    "plt.plot(x1[0,:], x1[1,:], 'sb', mfc='w')\n",
    "plt.plot(x2[0,:], x2[1,:], '^r', mfc='w')\n",
    "plt.axis('scaled')\n",
    "plt.grid(True)"
   ]
  },
  {
   "cell_type": "code",
   "execution_count": 42,
   "metadata": {},
   "outputs": [
    {
     "name": "stdout",
     "output_type": "stream",
     "text": [
      "num Erros 3 3\n",
      "[0.9530106  1.43376732] [0.1631994] [1.29954508 1.55942486] [0.21486698]\n"
     ]
    }
   ],
   "source": [
    "svm1 = LinearSVC(dual=False, C=1).fit(X.T, y)\n",
    "svm2 = SVC(kernel='linear', C=1).fit(X.T, y)\n",
    "\n",
    "y1 = svm1.predict(X.T)\n",
    "y2 = svm2.predict(X.T)\n",
    "\n",
    "print('num Erros', np.sum(y!=y1) , np.sum(y!=y2))\n",
    "\n",
    "w1 = svm1.coef_.squeeze()\n",
    "w2 = svm2.coef_.squeeze()\n",
    "w0a= svm1.intercept_\n",
    "w0b= svm2.intercept_\n",
    "print(w1, w0a,w2, w0b)"
   ]
  },
  {
   "cell_type": "code",
   "execution_count": 43,
   "metadata": {},
   "outputs": [
    {
     "data": {
      "image/png": "[encoded data removed]",
      "text/plain": [
       "<Figure size 360x504 with 1 Axes>"
      ]
     },
     "metadata": {
      "needs_background": "light"
     },
     "output_type": "display_data"
    }
   ],
   "source": [
    "gx= np.array([-3,3])\n",
    "gy1 = -1/w1[1]*(w1[0]*gx+w0a)\n",
    "gy2 = -1/w2[1]*(w2[0]*gx+w0b)\n",
    "\n",
    "plt.figure(figsize=(5,7))\n",
    "plt.plot(x1[0,:], x1[1,:], 'sb', mfc='w')\n",
    "plt.plot(x2[0,:], x2[1,:], '^r', mfc='w')\n",
    "plt.plot(X[0,y!=y1], X[1,y!=y1], 'ok', ms=3)\n",
    "plt.plot(gx, gy1,':k')\n",
    "plt.plot(gx, gy2,':k')\n",
    "plt.axis('scaled')\n",
    "plt.axis([-3,3,-3,3])\n",
    "plt.grid(True)"
   ]
  },
  {
   "cell_type": "code",
   "execution_count": null,
   "metadata": {},
   "outputs": [],
   "source": []
  }
 ],
 "metadata": {
  "kernelspec": {
   "display_name": "Python 3",
   "language": "python",
   "name": "python3"
  },
  "language_info": {
   "codemirror_mode": {
    "name": "ipython",
    "version": 3
   },
   "file_extension": ".py",
   "mimetype": "text/x-python",
   "name": "python",
   "nbconvert_exporter": "python",
   "pygments_lexer": "ipython3",
   "version": "3.8.5"
  }
 },
 "nbformat": 4,
 "nbformat_minor": 4
}
