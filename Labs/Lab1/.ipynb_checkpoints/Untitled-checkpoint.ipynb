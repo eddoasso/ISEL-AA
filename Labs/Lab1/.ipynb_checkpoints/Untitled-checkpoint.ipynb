{
 "cells": [
  {
   "cell_type": "code",
   "execution_count": 1,
   "metadata": {},
   "outputs": [
    {
     "data": {
      "image/png": "[encoded data removed]",
      "text/plain": [
       "<Figure size 648x180 with 4 Axes>"
      ]
     },
     "metadata": {
      "needs_background": "light"
     },
     "output_type": "display_data"
    }
   ],
   "source": [
    "# -*- coding: latin-1 -*-\n",
    "import numpy as np\n",
    "import numpy.random as rd\n",
    "import matplotlib.pyplot as plt\n",
    "plt.close('all')\n",
    "N=100000 #1e5 pts uniforme\n",
    "x1=rd.rand(N)\n",
    "x2=np.sum(rd.rand(2,N),axis=0) #soma de 2 v.a. uniformes\n",
    "x3=np.sum(rd.rand(3,N),axis=0) #soma de 3 v.a. uniformes\n",
    "x4=np.sum(rd.rand(10,N),axis=0) #soma de 10 v.a. uniformes\n",
    "hx,b=np.histogram(x1,np.linspace(0,1,101),density=True)\n",
    "b=(b[:-1]+b[1:])/2\n",
    "plt.figure(figsize=(15,5))\n",
    "plt.subplot(141);plt.axis([-0.1,1.1,0,1.1]);plt.title('N=1')\n",
    "plt.bar(b[0:100],hx,width=0.005);plt.xticks([0,0.5,1])\n",
    "hx,b=np.histogram(x2,np.linspace(0,2,101),density=True)\n",
    "b=(b[:-1]+b[1:])/2\n",
    "plt.subplot(142);plt.axis([-0.1,2.1,0,1.1]);plt.title('N=2')\n",
    "plt.bar(b[0:100],hx,width=0.01);plt.xticks(np.arange(3))\n",
    "hx,b=np.histogram(x3,np.linspace(0,3,101),density=True)\n",
    "b=(b[:-1]+b[1:])/2\n",
    "plt.subplot(143);plt.axis([-0.1,3.1,0,.8]);plt.title('N=3')\n",
    "plt.bar(b[0:100],hx,width=0.015);plt.xticks(np.arange(4))\n",
    "hx,b=np.histogram(x4,np.linspace(0,10,101),density=True)\n",
    "b=(b[:-1]+b[1:])/2\n",
    "plt.subplot(144);plt.axis([-0.1,10.1,0,.5]);plt.title('N=10')\n",
    "plt.bar(b[0:100],hx,width=0.05);plt.xticks(np.arange(0,11,2))\n",
    "#plt.savefig('../figs/L1AAex002.png',bbox_inches='tight',transparent=True) \n",
    "plt.show()\n"
   ]
  },
  {
   "cell_type": "code",
   "execution_count": null,
   "metadata": {},
   "outputs": [],
   "source": []
  }
 ],
 "metadata": {
  "kernelspec": {
   "display_name": "Python 3",
   "language": "python",
   "name": "python3"
  },
  "language_info": {
   "codemirror_mode": {
    "name": "ipython",
    "version": 3
   },
   "file_extension": ".py",
   "mimetype": "text/x-python",
   "name": "python",
   "nbconvert_exporter": "python",
   "pygments_lexer": "ipython3",
   "version": "3.8.3"
  }
 },
 "nbformat": 4,
 "nbformat_minor": 4
}
