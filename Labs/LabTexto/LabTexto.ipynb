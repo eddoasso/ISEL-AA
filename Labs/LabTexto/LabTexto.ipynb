{
 "cells": [
  {
   "cell_type": "markdown",
   "metadata": {},
   "source": [
    "# Bag of words"
   ]
  },
  {
   "cell_type": "code",
   "execution_count": 1,
   "metadata": {},
   "outputs": [],
   "source": [
    "import numpy as np\n",
    "import matplotlib.pyplot as plt\n",
    "from sklearn.feature_extraction.text import CountVectorizer "
   ]
  },
  {
   "cell_type": "code",
   "execution_count": 2,
   "metadata": {},
   "outputs": [
    {
     "data": {
      "text/plain": [
       "11"
      ]
     },
     "execution_count": 2,
     "metadata": {},
     "output_type": "execute_result"
    }
   ],
   "source": [
    "corpus = '''Se uma gaivota viesse\n",
    "Trazer-me o céu de lisboa\n",
    "No desenho que fizesse\n",
    "Nesse céu onde o olhar\n",
    "É uma asa que não voa\n",
    "Esmorece e cai no mar\n",
    "Que perfeito coração\n",
    "No meu peito bateria\n",
    "Meu amor na tua mão\n",
    "Nessa mão onde cabia\n",
    "Perfeito o meu coração'''.split('\\n')\n",
    "len(corpus)"
   ]
  },
  {
   "cell_type": "code",
   "execution_count": 3,
   "metadata": {},
   "outputs": [],
   "source": [
    "cv = CountVectorizer().fit(corpus)"
   ]
  },
  {
   "cell_type": "code",
   "execution_count": 4,
   "metadata": {},
   "outputs": [
    {
     "name": "stdout",
     "output_type": "stream",
     "text": [
      "33\n",
      "{'se': 27, 'uma': 30, 'gaivota': 11, 'viesse': 31, 'trazer': 28, 'me': 14, 'céu': 6, 'de': 7, 'lisboa': 12, 'no': 20, 'desenho': 8, 'que': 26, 'fizesse': 10, 'nesse': 19, 'onde': 23, 'olhar': 22, 'asa': 1, 'não': 21, 'voa': 32, 'esmorece': 9, 'cai': 4, 'mar': 13, 'perfeito': 25, 'coração': 5, 'meu': 15, 'peito': 24, 'bateria': 2, 'amor': 0, 'na': 17, 'tua': 29, 'mão': 16, 'nessa': 18, 'cabia': 3}\n"
     ]
    }
   ],
   "source": [
    "# Devolve o vocabulario, sem ordenacao\n",
    "vob= cv.vocabulary_\n",
    "print(len(vob))\n",
    "print(vob)"
   ]
  },
  {
   "cell_type": "code",
   "execution_count": 5,
   "metadata": {},
   "outputs": [
    {
     "name": "stdout",
     "output_type": "stream",
     "text": [
      "vob\n",
      " {'amor': 0, 'asa': 1, 'bateria': 2, 'cabia': 3, 'cai': 4, 'coração': 5, 'céu': 6, 'de': 7, 'desenho': 8, 'esmorece': 9, 'fizesse': 10, 'gaivota': 11, 'lisboa': 12, 'mar': 13, 'me': 14, 'meu': 15, 'mão': 16, 'na': 17, 'nessa': 18, 'nesse': 19, 'no': 20, 'não': 21, 'olhar': 22, 'onde': 23, 'peito': 24, 'perfeito': 25, 'que': 26, 'se': 27, 'trazer': 28, 'tua': 29, 'uma': 30, 'viesse': 31, 'voa': 32} \n",
      "\n",
      "vob2\n",
      " {0: 'amor', 1: 'asa', 2: 'bateria', 3: 'cabia', 4: 'cai', 5: 'coração', 6: 'céu', 7: 'de', 8: 'desenho', 9: 'esmorece', 10: 'fizesse', 11: 'gaivota', 12: 'lisboa', 13: 'mar', 14: 'me', 15: 'meu', 16: 'mão', 17: 'na', 18: 'nessa', 19: 'nesse', 20: 'no', 21: 'não', 22: 'olhar', 23: 'onde', 24: 'peito', 25: 'perfeito', 26: 'que', 27: 'se', 28: 'trazer', 29: 'tua', 30: 'uma', 31: 'viesse', 32: 'voa'}\n"
     ]
    }
   ],
   "source": [
    "## Extrair o vocabulario, ordenado\n",
    "cv.get_feature_names()\n",
    "## Ordenar o vocabulario, sem usar o feature names\n",
    "vob = {k: v for k,v in sorted(vob.items(), key = lambda item: item[1])}\n",
    "# Trocar a chave com o valor para ter o indice como chave\n",
    "vob2 = {value:key for key,value in vob.items()}\n",
    "\n",
    "print('vob\\n', vob,'\\n')\n",
    "print('vob2\\n', vob2)"
   ]
  },
  {
   "cell_type": "code",
   "execution_count": 6,
   "metadata": {},
   "outputs": [
    {
     "name": "stdout",
     "output_type": "stream",
     "text": [
      "[[0 0 0 0 0 0 0 0 0 0 0 1 0 0 0 0 0 0 0 0 0 0 0 0 0 0 0 1 0 0 1 1 0]\n",
      " [0 0 0 0 0 0 1 1 0 0 0 0 1 0 1 0 0 0 0 0 0 0 0 0 0 0 0 0 1 0 0 0 0]\n",
      " [0 0 0 0 0 0 0 0 1 0 1 0 0 0 0 0 0 0 0 0 1 0 0 0 0 0 1 0 0 0 0 0 0]\n",
      " [0 0 0 0 0 0 1 0 0 0 0 0 0 0 0 0 0 0 0 1 0 0 1 1 0 0 0 0 0 0 0 0 0]\n",
      " [0 1 0 0 0 0 0 0 0 0 0 0 0 0 0 0 0 0 0 0 0 1 0 0 0 0 1 0 0 0 1 0 1]\n",
      " [0 0 0 0 1 0 0 0 0 1 0 0 0 1 0 0 0 0 0 0 1 0 0 0 0 0 0 0 0 0 0 0 0]\n",
      " [0 0 0 0 0 1 0 0 0 0 0 0 0 0 0 0 0 0 0 0 0 0 0 0 0 1 1 0 0 0 0 0 0]\n",
      " [0 0 1 0 0 0 0 0 0 0 0 0 0 0 0 1 0 0 0 0 1 0 0 0 1 0 0 0 0 0 0 0 0]\n",
      " [1 0 0 0 0 0 0 0 0 0 0 0 0 0 0 1 1 1 0 0 0 0 0 0 0 0 0 0 0 1 0 0 0]\n",
      " [0 0 0 1 0 0 0 0 0 0 0 0 0 0 0 0 1 0 1 0 0 0 0 1 0 0 0 0 0 0 0 0 0]\n",
      " [0 0 0 0 0 1 0 0 0 0 0 0 0 0 0 1 0 0 0 0 0 0 0 0 0 1 0 0 0 0 0 0 0]]\n",
      "0 amor 1\n",
      "1 asa 1\n",
      "2 bateria 1\n",
      "3 cabia 1\n",
      "4 cai 1\n",
      "5 coração 2\n",
      "6 céu 2\n",
      "7 de 1\n",
      "8 desenho 1\n",
      "9 esmorece 1\n",
      "10 fizesse 1\n",
      "11 gaivota 1\n",
      "12 lisboa 1\n",
      "13 mar 1\n",
      "14 me 1\n",
      "15 meu 3\n",
      "16 mão 2\n",
      "17 na 1\n",
      "18 nessa 1\n",
      "19 nesse 1\n",
      "20 no 3\n",
      "21 não 1\n",
      "22 olhar 1\n",
      "23 onde 2\n",
      "24 peito 1\n",
      "25 perfeito 2\n",
      "26 que 3\n",
      "27 se 1\n",
      "28 trazer 1\n",
      "29 tua 1\n",
      "30 uma 2\n",
      "31 viesse 1\n",
      "32 voa 1\n"
     ]
    }
   ],
   "source": [
    "X = cv.transform(corpus)\n",
    "print(X.toarray())\n",
    "count = np.sum(X.toarray(), axis=0)\n",
    "for i in range(len(count)):\n",
    "    print(i, vob2[i], count[i])"
   ]
  },
  {
   "cell_type": "markdown",
   "metadata": {},
   "source": [
    "## Representação TF-IDF"
   ]
  },
  {
   "cell_type": "code",
   "execution_count": 7,
   "metadata": {},
   "outputs": [],
   "source": [
    "from sklearn.feature_extraction.text import CountVectorizer, TfidfTransformer, TfidfVectorizer"
   ]
  },
  {
   "cell_type": "code",
   "execution_count": 8,
   "metadata": {},
   "outputs": [
    {
     "name": "stdout",
     "output_type": "stream",
     "text": [
      "[[0 0 0 0 0 0 0 0 0 0 0 1 0 0 0 0 0 0 0 0 0 0 0 0 0 0 0 1 0 0 1 1 0]\n",
      " [0 0 0 0 0 0 1 1 0 0 0 0 1 0 1 0 0 0 0 0 0 0 0 0 0 0 0 0 1 0 0 0 0]\n",
      " [0 0 0 0 0 0 0 0 1 0 1 0 0 0 0 0 0 0 0 0 1 0 0 0 0 0 1 0 0 0 0 0 0]\n",
      " [0 0 0 0 0 0 1 0 0 0 0 0 0 0 0 0 0 0 0 1 0 0 1 1 0 0 0 0 0 0 0 0 0]\n",
      " [0 1 0 0 0 0 0 0 0 0 0 0 0 0 0 0 0 0 0 0 0 1 0 0 0 0 1 0 0 0 1 0 1]\n",
      " [0 0 0 0 1 0 0 0 0 1 0 0 0 1 0 0 0 0 0 0 1 0 0 0 0 0 0 0 0 0 0 0 0]\n",
      " [0 0 0 0 0 1 0 0 0 0 0 0 0 0 0 0 0 0 0 0 0 0 0 0 0 1 1 0 0 0 0 0 0]\n",
      " [0 0 1 0 0 0 0 0 0 0 0 0 0 0 0 1 0 0 0 0 1 0 0 0 1 0 0 0 0 0 0 0 0]\n",
      " [1 0 0 0 0 0 0 0 0 0 0 0 0 0 0 1 1 1 0 0 0 0 0 0 0 0 0 0 0 1 0 0 0]\n",
      " [0 0 0 1 0 0 0 0 0 0 0 0 0 0 0 0 1 0 1 0 0 0 0 1 0 0 0 0 0 0 0 0 0]\n",
      " [0 0 0 0 0 1 0 0 0 0 0 0 0 0 0 1 0 0 0 0 0 0 0 0 0 1 0 0 0 0 0 0 0]]\n",
      "[[0.   0.   0.   0.   0.   0.   0.   0.   0.   0.   0.   0.52 0.   0.\n",
      "  0.   0.   0.   0.   0.   0.   0.   0.   0.   0.   0.   0.   0.   0.52\n",
      "  0.   0.   0.44 0.52 0.  ]\n",
      " [0.   0.   0.   0.   0.   0.   0.39 0.46 0.   0.   0.   0.   0.46 0.\n",
      "  0.46 0.   0.   0.   0.   0.   0.   0.   0.   0.   0.   0.   0.   0.\n",
      "  0.46 0.   0.   0.   0.  ]\n",
      " [0.   0.   0.   0.   0.   0.   0.   0.   0.57 0.   0.57 0.   0.   0.\n",
      "  0.   0.   0.   0.   0.   0.   0.42 0.   0.   0.   0.   0.   0.42 0.\n",
      "  0.   0.   0.   0.   0.  ]\n",
      " [0.   0.   0.   0.   0.   0.   0.46 0.   0.   0.   0.   0.   0.   0.\n",
      "  0.   0.   0.   0.   0.   0.54 0.   0.   0.54 0.46 0.   0.   0.   0.\n",
      "  0.   0.   0.   0.   0.  ]\n",
      " [0.   0.48 0.   0.   0.   0.   0.   0.   0.   0.   0.   0.   0.   0.\n",
      "  0.   0.   0.   0.   0.   0.   0.   0.48 0.   0.   0.   0.   0.36 0.\n",
      "  0.   0.   0.41 0.   0.48]\n",
      " [0.   0.   0.   0.   0.53 0.   0.   0.   0.   0.53 0.   0.   0.   0.53\n",
      "  0.   0.   0.   0.   0.   0.   0.4  0.   0.   0.   0.   0.   0.   0.\n",
      "  0.   0.   0.   0.   0.  ]\n",
      " [0.   0.   0.   0.   0.   0.6  0.   0.   0.   0.   0.   0.   0.   0.\n",
      "  0.   0.   0.   0.   0.   0.   0.   0.   0.   0.   0.   0.6  0.53 0.\n",
      "  0.   0.   0.   0.   0.  ]\n",
      " [0.   0.   0.57 0.   0.   0.   0.   0.   0.   0.   0.   0.   0.   0.\n",
      "  0.   0.42 0.   0.   0.   0.   0.42 0.   0.   0.   0.57 0.   0.   0.\n",
      "  0.   0.   0.   0.   0.  ]\n",
      " [0.48 0.   0.   0.   0.   0.   0.   0.   0.   0.   0.   0.   0.   0.\n",
      "  0.   0.36 0.41 0.48 0.   0.   0.   0.   0.   0.   0.   0.   0.   0.\n",
      "  0.   0.48 0.   0.   0.  ]\n",
      " [0.   0.   0.   0.54 0.   0.   0.   0.   0.   0.   0.   0.   0.   0.\n",
      "  0.   0.   0.46 0.   0.54 0.   0.   0.   0.   0.46 0.   0.   0.   0.\n",
      "  0.   0.   0.   0.   0.  ]\n",
      " [0.   0.   0.   0.   0.   0.6  0.   0.   0.   0.   0.   0.   0.   0.\n",
      "  0.   0.53 0.   0.   0.   0.   0.   0.   0.   0.   0.   0.6  0.   0.\n",
      "  0.   0.   0.   0.   0.  ]]\n"
     ]
    }
   ],
   "source": [
    "cv = CountVectorizer().fit(corpus)\n",
    "X = cv.transform(corpus)\n",
    "tfidf = TfidfTransformer().fit(X)\n",
    "X2 = tfidf.transform(X).toarray()\n",
    "print(X.toarray())\n",
    "print(np.round(X2, 2))"
   ]
  },
  {
   "cell_type": "code",
   "execution_count": 9,
   "metadata": {},
   "outputs": [],
   "source": [
    "tfidf = TfidfVectorizer().fit(corpus)\n",
    "X3 = tfidf.transform(corpus).toarray()"
   ]
  },
  {
   "cell_type": "code",
   "execution_count": 10,
   "metadata": {},
   "outputs": [
    {
     "name": "stdout",
     "output_type": "stream",
     "text": [
      "[[0.         0.         0.         0.         0.        ]\n",
      " [0.         0.         0.         0.         0.        ]\n",
      " [0.         0.         0.         0.         0.        ]\n",
      " [0.         0.         0.         0.         0.        ]\n",
      " [0.         0.48248419 0.         0.         0.        ]\n",
      " [0.         0.         0.         0.         0.52962134]\n",
      " [0.         0.         0.         0.         0.        ]\n",
      " [0.         0.         0.56521933 0.         0.        ]\n",
      " [0.48248419 0.         0.         0.         0.        ]\n",
      " [0.         0.         0.         0.5375069  0.        ]\n",
      " [0.         0.         0.         0.         0.        ]]\n"
     ]
    }
   ],
   "source": [
    "print(X2[:,:5])\n"
   ]
  },
  {
   "cell_type": "code",
   "execution_count": 11,
   "metadata": {},
   "outputs": [
    {
     "name": "stdout",
     "output_type": "stream",
     "text": [
      "[[0.         0.         0.         0.         0.        ]\n",
      " [0.         0.         0.         0.         0.        ]\n",
      " [0.         0.         0.         0.         0.        ]\n",
      " [0.         0.         0.         0.         0.        ]\n",
      " [0.         0.48248419 0.         0.         0.        ]\n",
      " [0.         0.         0.         0.         0.52962134]\n",
      " [0.         0.         0.         0.         0.        ]\n",
      " [0.         0.         0.56521933 0.         0.        ]\n",
      " [0.48248419 0.         0.         0.         0.        ]\n",
      " [0.         0.         0.         0.5375069  0.        ]\n",
      " [0.         0.         0.         0.         0.        ]]\n"
     ]
    }
   ],
   "source": [
    "print(X3[:,:5])\n"
   ]
  },
  {
   "cell_type": "code",
   "execution_count": null,
   "metadata": {},
   "outputs": [],
   "source": []
  },
  {
   "cell_type": "markdown",
   "metadata": {},
   "source": [
    "# Base de dados IMDb"
   ]
  },
  {
   "cell_type": "code",
   "execution_count": 12,
   "metadata": {},
   "outputs": [],
   "source": [
    "from sklearn.datasets import load_files\n",
    "from sklearn.feature_extraction.text import TfidfVectorizer\n",
    "import re"
   ]
  },
  {
   "cell_type": "code",
   "execution_count": 13,
   "metadata": {},
   "outputs": [],
   "source": [
    "D = load_files('aclImdb/train')\n",
    "Docs = D.data\n",
    "y = D.target\n",
    "fNames = D.filenames"
   ]
  },
  {
   "cell_type": "code",
   "execution_count": 14,
   "metadata": {},
   "outputs": [
    {
     "name": "stdout",
     "output_type": "stream",
     "text": [
      "34258\n"
     ]
    }
   ],
   "source": [
    "tfidf = TfidfVectorizer(min_df=3, token_pattern=r'\\b\\w\\w\\w\\w+\\b').fit(Docs)\n",
    "tokens = tfidf.get_feature_names()\n",
    "print(len(tokens))"
   ]
  },
  {
   "cell_type": "code",
   "execution_count": null,
   "metadata": {},
   "outputs": [],
   "source": []
  },
  {
   "cell_type": "code",
   "execution_count": 15,
   "metadata": {},
   "outputs": [
    {
     "data": {
      "text/plain": [
       "'Words can t describe how bad this movie is I can t explain it by writing only You have too see it for yourself to get at grip of how horrible a movie really can be Not that I recommend you to do that There are so many clich s mistakes and all other negative things you can imagine here that will just make you cry To start with the technical first there are a LOT of mistakes regarding the airplane I won t list them here but just mention the coloring of the plane They didn t even manage to show an airliner in the colors of a fictional airline but instead used a painted in the original Boeing livery Very bad The plot is stupid and has been done many times before only much much better There are so many ridiculous moments here that i lost count of it really early Also I was on the bad guys side all the time in the movie because the good guys were so stupid Executive Decision should without a doubt be you re choice over this one even the Turbulence movies are better In fact every other movie in the world is better than this one '"
      ]
     },
     "execution_count": 15,
     "metadata": {},
     "output_type": "execute_result"
    }
   ],
   "source": [
    "Docs = [doc.decode('UTF-8') for doc in Docs]\n",
    "Docs = [doc.replace('<br />', ' ') for doc in Docs]\n",
    "Docs = [re.sub(r'[^a-zA-Z]+', ' ', doc) for doc in Docs]\n",
    "\n",
    "D = Docs[1]\n",
    "D"
   ]
  },
  {
   "cell_type": "code",
   "execution_count": 16,
   "metadata": {},
   "outputs": [
    {
     "name": "stdout",
     "output_type": "stream",
     "text": [
      "25855\n"
     ]
    }
   ],
   "source": [
    "tfidf = TfidfVectorizer(min_df=5, token_pattern=r'\\b\\w\\w\\w\\w+\\b').fit(Docs)\n",
    "tokens = tfidf.get_feature_names()\n",
    "print(len(tokens))"
   ]
  },
  {
   "cell_type": "markdown",
   "metadata": {},
   "source": [
    "# Stemmers\n",
    "## Reduzir ainda mais o numero de tokens\n",
    "\n",
    "Eliminar palavras mal escritas ou com significado muito semelhantes entre elas"
   ]
  },
  {
   "cell_type": "code",
   "execution_count": 17,
   "metadata": {},
   "outputs": [],
   "source": [
    "from nltk.stem import PorterStemmer, SnowballStemmer, LancasterStemmer"
   ]
  },
  {
   "cell_type": "code",
   "execution_count": 18,
   "metadata": {},
   "outputs": [
    {
     "name": "stdout",
     "output_type": "stream",
     "text": [
      "['aames', 'aamir', 'aankhen', 'aardman', 'aaron', 'aback', 'abandon', 'abandoned', 'abandoning', 'abandonment', 'abandons', 'abbas', 'abbey', 'abbot', 'abbott', 'abbreviated', 'abby', 'abduct', 'abducted', 'abduction', 'abel', 'abetted', 'abhay', 'abhishek', 'abhorrent', 'abiding', 'abigail', 'abilities', 'ability', 'abject', 'able', 'ably', 'abnormal', 'aboard', 'abode', 'abominable', 'abomination', 'abominations', 'aboriginal', 'aborigine', 'aborigines', 'aborted', 'abortion', 'abortions', 'abound', 'abounds', 'about', 'above', 'abraham', 'abrahams', 'abrasive', 'abridged', 'abroad', 'abrupt', 'abruptly', 'absence', 'absent', 'absentee', 'absolute', 'absolutely', 'absolution', 'absolutly', 'absorb', 'absorbed', 'absorbing', 'absorbs', 'absorption', 'abstract', 'abstractions', 'absurd', 'absurdist', 'absurdities', 'absurdity', 'absurdly', 'absurdness', 'abundance', 'abundant', 'abundantly', 'abuse', 'abused', 'abuser', 'abuses', 'abusing', 'abusive', 'abysmal', 'abysmally', 'abyss', 'academic', 'academy', 'accelerated', 'accent', 'accented', 'accents', 'accentuate', 'accentuated', 'accentuates', 'accept', 'acceptable', 'acceptance', 'accepted']\n",
      "\n",
      "-------------------------------------------------------------\n",
      "\n",
      "['aam', 'aamir', 'aankhen', 'aardman', 'aaron', 'aback', 'abandon', 'abandon', 'abandon', 'abandon', 'abandon', 'abba', 'abbey', 'abbot', 'abbott', 'abbrevi', 'abbi', 'abduct', 'abduct', 'abduct', 'abel', 'abet', 'abhay', 'abhishek', 'abhorr', 'abid', 'abigail', 'abil', 'abil', 'abject', 'abl', 'abli', 'abnorm', 'aboard', 'abod', 'abomin', 'abomin', 'abomin', 'aborigin', 'aborigin', 'aborigin', 'abort', 'abort', 'abort', 'abound', 'abound', 'about', 'abov', 'abraham', 'abraham', 'abras', 'abridg', 'abroad', 'abrupt', 'abruptli', 'absenc', 'absent', 'absente', 'absolut', 'absolut', 'absolut', 'absolutli', 'absorb', 'absorb', 'absorb', 'absorb', 'absorpt', 'abstract', 'abstract', 'absurd', 'absurdist', 'absurd', 'absurd', 'absurdli', 'absurd', 'abund', 'abund', 'abundantli', 'abus', 'abus', 'abus', 'abus', 'abus', 'abus', 'abysm', 'abysm', 'abyss', 'academ', 'academi', 'acceler', 'accent', 'accent', 'accent', 'accentu', 'accentu', 'accentu', 'accept', 'accept', 'accept', 'accept']\n",
      "16641\n"
     ]
    }
   ],
   "source": [
    "stemFunc = PorterStemmer()\n",
    "voc = tfidf.get_feature_names()\n",
    "voc2 = [stemFunc.stem(w) for w in voc]\n",
    "print(voc[:100])\n",
    "print('\\n-------------------------------------------------------------\\n')\n",
    "print(voc2[:100])\n",
    "print(len(np.unique(voc2)))"
   ]
  },
  {
   "cell_type": "code",
   "execution_count": 19,
   "metadata": {},
   "outputs": [
    {
     "name": "stdout",
     "output_type": "stream",
     "text": [
      "Words can t describe how bad this movie is I can t explain it by writing only You have too see it for yourself to get at grip of how horrible a movie really can be Not that I recommend you to do that There are so many clich s mistakes and all other negative things you can imagine here that will just make you cry To start with the technical first there are a LOT of mistakes regarding the airplane I won t list them here but just mention the coloring of the plane They didn t even manage to show an airliner in the colors of a fictional airline but instead used a painted in the original Boeing livery Very bad The plot is stupid and has been done many times before only much much better There are so many ridiculous moments here that i lost count of it really early Also I was on the bad guys side all the time in the movie because the good guys were so stupid Executive Decision should without a doubt be you re choice over this one even the Turbulence movies are better In fact every other movie in the world is better than this one \n",
      "\n",
      "-------------------------------------------------------------\n",
      "\n",
      "word can t describ how bad thi movi is I can t explain it by write onli you have too see it for yourself to get at grip of how horribl a movi realli can be not that I recommend you to do that there are so mani clich s mistak and all other neg thing you can imagin here that will just make you cri To start with the technic first there are a lot of mistak regard the airplan I won t list them here but just mention the color of the plane they didn t even manag to show an airlin in the color of a fiction airlin but instead use a paint in the origin boe liveri veri bad the plot is stupid and ha been done mani time befor onli much much better there are so mani ridicul moment here that i lost count of it realli earli also I wa on the bad guy side all the time in the movi becaus the good guy were so stupid execut decis should without a doubt be you re choic over thi one even the turbul movi are better In fact everi other movi in the world is better than thi one\n"
     ]
    }
   ],
   "source": [
    "doc = Docs[1]\n",
    "doc2 = ' '.join([stemFunc.stem(w) for w in doc.split()])\n",
    "print(doc)\n",
    "print('\\n-------------------------------------------------------------\\n')\n",
    "print(doc2)\n",
    "\n"
   ]
  },
  {
   "cell_type": "markdown",
   "metadata": {},
   "source": [
    "Fazer a vectorizacao dos documentos com os stemmers respetivos"
   ]
  },
  {
   "cell_type": "code",
   "execution_count": 20,
   "metadata": {},
   "outputs": [
    {
     "name": "stdout",
     "output_type": "stream",
     "text": [
      "25855\n"
     ]
    }
   ],
   "source": [
    "stemFunc = PorterStemmer()\n",
    "Docs2  = [' '.join([stemFunc.stem(w) for w in d.split()]) for d in Docs]\n",
    "tfidf1 = TfidfVectorizer(min_df=3, token_pattern=r'\\b\\w\\w\\w+\\b').fit(Docs2)\n",
    "tokens1= tfidf.get_feature_names()\n",
    "print(len(tokens))"
   ]
  },
  {
   "cell_type": "code",
   "execution_count": 21,
   "metadata": {},
   "outputs": [
    {
     "name": "stdout",
     "output_type": "stream",
     "text": [
      "25855\n"
     ]
    }
   ],
   "source": [
    "stemFunc = SnowballStemmer('english')\n",
    "Docs2  = [' '.join([stemFunc.stem(w) for w in d.split()]) for d in Docs]\n",
    "tfidf2 = TfidfVectorizer(min_df=3, token_pattern=r'\\b\\w\\w\\w+\\b').fit(Docs2)\n",
    "tokens2= tfidf.get_feature_names()\n",
    "print(len(tokens))"
   ]
  },
  {
   "cell_type": "code",
   "execution_count": 22,
   "metadata": {},
   "outputs": [
    {
     "name": "stdout",
     "output_type": "stream",
     "text": [
      "25855\n"
     ]
    }
   ],
   "source": [
    "stemFunc = LancasterStemmer()\n",
    "Docs2 = [' '.join([stemFunc.stem(w) for w in d.split()]) for d in Docs]\n",
    "tfidf3 = TfidfVectorizer(min_df=3, token_pattern=r'\\b\\w\\w\\w+\\b').fit(Docs2)\n",
    "tokens3= tfidf.get_feature_names()\n",
    "print(len(tokens))"
   ]
  },
  {
   "cell_type": "markdown",
   "metadata": {},
   "source": [
    "## Representação tf-idf"
   ]
  },
  {
   "cell_type": "code",
   "execution_count": 23,
   "metadata": {
    "scrolled": true
   },
   "outputs": [
    {
     "name": "stdout",
     "output_type": "stream",
     "text": [
      "(25000, 18920) <class 'scipy.sparse.csr.csr_matrix'>\n"
     ]
    }
   ],
   "source": [
    "X =tfidf3.transform(Docs2)\n",
    "print(X.shape, type(X))"
   ]
  },
  {
   "cell_type": "code",
   "execution_count": 24,
   "metadata": {},
   "outputs": [
    {
     "name": "stdout",
     "output_type": "stream",
     "text": [
      "['kattan', 'chivalry', 'gene', 'conchita', 'mystique', 'mcqueen', 'google', 'rediscovery', 'mcanally', 'randy', 'obtains', 'christ', 'camping', 'remotely', 'beatle', 'clift', 'library', 'hormone', 'bleak', 'cancellation', 'followed', 'letterboxed', 'digest', 'garfield', 'chosen', 'liberating', 'harem', 'overseas', 'middle', 'humiliate', 'baked', 'chimp', 'dresser', 'atheist', 'reckoning', 'childhood', 'dullness', 'complicit', 'chang', 'launches', 'fills', 'inhabits', 'referred', 'drug', 'implicate', 'event', 'outgoing', 'backdrops', 'blurbs', 'ears', 'repetitious', 'confrontations', 'durbin', 'meander', 'mining', 'remedy', 'disaster', 'disenfranchised', 'redundancy', 'dimwitted', 'involuntary', 'replacing', 'assigned', 'bewildering', 'aztec', 'floppy', 'afro', 'bound', 'garth', 'infest', 'folksy', 'belmondo', 'joke', 'brisk', 'counselor', 'nearest', 'dinocroc', 'parks', 'loaned', 'historic', 'drool', 'heartwarming', 'align', 'flickering', 'himmelen', 'jocks', 'goofball', 'clip', 'harmon', 'copies', 'disk', 'exploitative', 'california', 'askew', 'heroin', 'freebird', 'phillippe', 'catchphrase', 'mays', 'mats']\n"
     ]
    }
   ],
   "source": [
    "xM = np.max(X, axis=0).toarray().squeeze()\n",
    "idx= np.argsort(-xM)\n",
    "voc= [tokens3[i] for i in idx]\n",
    "print(voc[:100])"
   ]
  },
  {
   "cell_type": "code",
   "execution_count": 25,
   "metadata": {},
   "outputs": [
    {
     "name": "stdout",
     "output_type": "stream",
     "text": [
      "(1, 18920) <class 'scipy.sparse.coo.coo_matrix'>\n"
     ]
    }
   ],
   "source": [
    "xTmp = np.max(X, axis=0)\n",
    "print(xTmp.shape, type(xTmp))"
   ]
  },
  {
   "cell_type": "markdown",
   "metadata": {},
   "source": [
    "### Inverse tfidf "
   ]
  },
  {
   "cell_type": "code",
   "execution_count": 26,
   "metadata": {
    "scrolled": true
   },
   "outputs": [
    {
     "name": "stdout",
     "output_type": "stream",
     "text": [
      "['this', 'that', 'with', 'movie', 'have', 'film', 'from', 'like', 'they', 'there', 'just', 'about', 'what', 'some', 'good', 'more', 'when', 'time', 'very', 'even', 'only', 'would', 'really', 'story', 'which', 'well', 'than', 'much', 'their', 'were', 'other', 'been', 'most', 'also', 'into', 'first', 'made', 'great', 'because', 'will', 'people', 'make', 'could', 'after', 'then', 'them', 'watch', 'think', 'acting', 'movies', 'seen', 'characters', 'many', 'plot', 'being', 'never', 'best', 'little', 'character', 'ever', 'know', 'where', 'over', 'better', 'life', 'films', 'does', 'love', 'still', 'here', 'your', 'these', 'while', 'should', 'something', 'such', 'through', 'back', 'scenes', 'watching', 'scene', 'those', 'thing', 'real', 'years', 'doesn', 'actors', 'another', 'before', 'though', 'director', 'makes', 'work', 'didn', 'look', 'actually', 'nothing', 'find', 'going', 'show']\n"
     ]
    }
   ],
   "source": [
    "idf = tfidf.idf_\n",
    "idx = np.argsort(idf)\n",
    "voc = [tokens[i] for i in idx]\n",
    "print(voc[:100])"
   ]
  },
  {
   "cell_type": "markdown",
   "metadata": {},
   "source": [
    "## Analise dos coeficientes dum discriminate logistico"
   ]
  },
  {
   "cell_type": "code",
   "execution_count": 27,
   "metadata": {},
   "outputs": [],
   "source": [
    "D1 = load_files('aclImdb/train')\n",
    "D2 = load_files('aclImdb/test')"
   ]
  },
  {
   "cell_type": "code",
   "execution_count": 28,
   "metadata": {},
   "outputs": [],
   "source": [
    "Docs1 = D1.data\n",
    "y1 = D1.target\n",
    "Docs2 = D2.data\n",
    "y2 = D2.target"
   ]
  },
  {
   "cell_type": "code",
   "execution_count": 29,
   "metadata": {},
   "outputs": [],
   "source": [
    "def preprocssTextData(Docs):\n",
    "    Docs = [doc.decode('UTF-8') for doc in Docs]\n",
    "    Docs = [doc.replace('<br />', ' ') for doc in Docs]\n",
    "    Docs = [re.sub(r'[^a-zA-Z\\u00C0\\u00FF]+', ' ', doc) for doc in Docs]\n",
    "    return Docs\n",
    "\n",
    "Docs1 = preprocssTextData(Docs1)\n",
    "Docs2 = preprocssTextData(Docs2)\n",
    "\n",
    "tfidf = TfidfVectorizer(min_df=5, token_pattern=r'\\b\\w\\w\\w\\w+\\b').fit(Docs1)\n",
    "X1 = tfidf.transform(Docs1)\n",
    "X2 = tfidf.transform(Docs2)"
   ]
  },
  {
   "cell_type": "code",
   "execution_count": 30,
   "metadata": {},
   "outputs": [
    {
     "name": "stdout",
     "output_type": "stream",
     "text": [
      "(25000, 25855)\n",
      "(25000, 25855)\n"
     ]
    }
   ],
   "source": [
    "print(X1.shape)\n",
    "print(X2.shape)"
   ]
  },
  {
   "cell_type": "code",
   "execution_count": 31,
   "metadata": {},
   "outputs": [
    {
     "name": "stdout",
     "output_type": "stream",
     "text": [
      "0.9324\n",
      "0.87988\n"
     ]
    }
   ],
   "source": [
    "from sklearn.linear_model import LogisticRegression\n",
    "\n",
    "dl = LogisticRegression(max_iter = 1000, C=1, tol = 1e-3)\n",
    "dl.fit(X1,y1)\n",
    "print(dl.score(X1,y1))\n",
    "print(dl.score(X2,y2))"
   ]
  },
  {
   "cell_type": "code",
   "execution_count": 32,
   "metadata": {},
   "outputs": [
    {
     "name": "stdout",
     "output_type": "stream",
     "text": [
      "['worst', 'awful', 'waste', 'boring', 'poor', 'worse', 'terrible', 'nothing', 'poorly', 'horrible', 'dull', 'unfortunately', 'annoying', 'script', 'ridiculous', 'stupid', 'disappointment', 'fails', 'supposed', 'disappointing', 'avoid', 'minutes', 'instead', 'mess', 'badly', 'even', 'lame', 'save', 'pointless', 'unless', 'lacks', 'just', 'weak', 'money', 'crap', 'predictable', 'attempt', 'laughable', 'wonder', 'plot', 'reason', 'only', 'looks', 'unfunny', 'couldn', 'idea', 'pathetic', 'wasted', 'tries', 'mediocre']\n",
      "\n",
      " ---------------------------------------------------------------------------------------------------- \n",
      "\n",
      "['surprised', 'recommended', 'subtle', 'beautifully', 'moving', 'refreshing', 'especially', 'unique', 'makes', 'masterpiece', 'will', 'shows', 'incredible', 'true', 'simple', 'classic', 'life', 'funniest', 'perfectly', 'heart', 'hilarious', 'entertaining', 'very', 'world', 'wonderfully', 'both', 'rare', 'enjoyable', 'enjoy', 'liked', 'also', 'still', 'definitely', 'fantastic', 'beautiful', 'highly', 'superb', 'brilliant', 'enjoyed', 'today', 'love', 'well', 'favorite', 'loved', 'amazing', 'wonderful', 'perfect', 'best', 'excellent', 'great']\n"
     ]
    }
   ],
   "source": [
    "w = dl.coef_\n",
    "idx= np.argsort(w).squeeze()\n",
    "voc=tfidf.get_feature_names()\n",
    "voc2 = [voc[i] for i in idx]\n",
    "print(voc2[:50])\n",
    "print('\\n', '-'*100 , '\\n')\n",
    "print(voc2[-50:])"
   ]
  },
  {
   "cell_type": "code",
   "execution_count": 33,
   "metadata": {},
   "outputs": [
    {
     "name": "stdout",
     "output_type": "stream",
     "text": [
      "(1, 25855)\n"
     ]
    }
   ],
   "source": [
    "print(w.shape)"
   ]
  },
  {
   "cell_type": "code",
   "execution_count": 34,
   "metadata": {},
   "outputs": [
    {
     "name": "stdout",
     "output_type": "stream",
     "text": [
      "128\n"
     ]
    },
    {
     "data": {
      "image/png": "[encoded data removed]",
      "text/plain": [
       "<Figure size 432x288 with 1 Axes>"
      ]
     },
     "metadata": {
      "needs_background": "light"
     },
     "output_type": "display_data"
    }
   ],
   "source": [
    "w=w.squeeze()\n",
    "plt.plot(w)\n",
    "print(np.sum(np.abs(w)<=1e-3))"
   ]
  },
  {
   "cell_type": "markdown",
   "metadata": {},
   "source": [
    "### Lasso"
   ]
  },
  {
   "cell_type": "code",
   "execution_count": 35,
   "metadata": {},
   "outputs": [
    {
     "name": "stdout",
     "output_type": "stream",
     "text": [
      "0.8076\n",
      "0.80492\n"
     ]
    }
   ],
   "source": [
    "from sklearn.linear_model import LogisticRegression\n",
    "\n",
    "dl = LogisticRegression(penalty='l1', solver='saga', max_iter=1000, C=0.10, tol= 1e-3)\n",
    "dl.fit(X1, y1)\n",
    "print(dl.score(X1, y1))\n",
    "print(dl.score(X2, y2))"
   ]
  },
  {
   "cell_type": "code",
   "execution_count": 36,
   "metadata": {},
   "outputs": [
    {
     "name": "stdout",
     "output_type": "stream",
     "text": [
      "98\n",
      "['worst', 'waste', 'awful', 'boring', 'poor', 'terrible', 'nothing', 'worse', 'script', 'stupid', 'minutes', 'horrible', 'even', 'poorly', 'plot', 'just', 'supposed', 'dull', 'unfortunately', 'instead', 'there', 'only', 'lame', 'ridiculous', 'acting', 'money', 'annoying', 'crap', 'avoid', 'they', 'would', 'thing', 'make', 'this', 'least', 'better', 'could', 'then', 'movie', 'idea', 'didn', 'reason', 'looks', 'have', 'mess', 'were', 'fails', 'half', 'been', 'attempt']\n",
      "\n",
      " ---------------------------------------------------------------------------------------------------- \n",
      "\n",
      "['fernandez', 'financial', 'fernando', 'finances', 'financed', 'finance', 'ferocious', 'financially', 'festive', 'liked', 'performance', 'classic', 'each', 'true', 'especially', 'story', 'most', 'shows', 'family', 'fantastic', 'enjoy', 'series', 'heart', 'always', 'years', 'superb', 'definitely', 'seen', 'world', 'both', 'enjoyed', 'brilliant', 'still', 'will', 'today', 'highly', 'also', 'life', 'beautiful', 'very', 'favorite', 'loved', 'well', 'amazing', 'love', 'perfect', 'best', 'wonderful', 'excellent', 'great']\n"
     ]
    }
   ],
   "source": [
    "w = dl.coef_\n",
    "w = w.squeeze()\n",
    "print(np.sum(w!=0))\n",
    "voc = tfidf.get_feature_names()\n",
    "idx = np.argsort(w)\n",
    "voc2= [voc[i] for i in idx]\n",
    "print(voc2[:50])\n",
    "print('\\n', '-'*100 , '\\n')\n",
    "print(voc2[-50:])"
   ]
  },
  {
   "cell_type": "markdown",
   "metadata": {},
   "source": [
    "## Guardar ordem das palavras - n gramas"
   ]
  },
  {
   "cell_type": "code",
   "execution_count": 37,
   "metadata": {},
   "outputs": [],
   "source": [
    "Docs1 = D1.data\n",
    "y1 = D1.target\n",
    "Docs2 = D2.data\n",
    "y2 = D2.target"
   ]
  },
  {
   "cell_type": "code",
   "execution_count": 38,
   "metadata": {},
   "outputs": [
    {
     "name": "stdout",
     "output_type": "stream",
     "text": [
      "Dimensao do vocabulario: 203983\n"
     ]
    }
   ],
   "source": [
    "Docs1 = preprocssTextData(Docs1)\n",
    "Docs2 = preprocssTextData(Docs2)\n",
    "\n",
    "tfidf = TfidfVectorizer(min_df=5, ngram_range=(1,4), token_pattern=r'\\b\\w\\w\\w+\\b').fit(Docs1)\n",
    "X1 = tfidf.transform(Docs1)\n",
    "X2 = tfidf.transform(Docs2)\n",
    "\n",
    "print('Dimensao do vocabulario:' , X1.shape[1])"
   ]
  },
  {
   "cell_type": "code",
   "execution_count": 39,
   "metadata": {},
   "outputs": [
    {
     "name": "stdout",
     "output_type": "stream",
     "text": [
      "['scanners', 'pokemon', 'wei', 'casper', 'dev', 'woo', 'more more', 'zizek', 'botched', 'xica', 'hackenstein', 'khouri', 'darkman', 'lennon', 'demons', 'smallville', 'shearer', 'tanner', 'ichi', 'othello', 'zatoichi', 'gadget', 'gamera', 'darius', 'naschy', 'beetle', 'coop', 'dahmer', 'alvin', 'kriemhild', 'soha', 'joan', 'stefan', 'basket', 'paulie', 'kyle', 'biko', 'puppet master', 'seagal', 'jill', 'winfield', 'dillinger', 'macarthur', 'che', 'timon', 'dominick', 'lincoln', 'kolchak', 'librarians', 'the doodlebops', 'cypher', 'foo', 'kusturica', 'steve', 'ants', 'lassie', 'muppet', 'kornbluth', 'chiba', 'oprah', 'ranma', 'blank check', 'ripley', 'janeane', 'doodlebops', 'lexi', 'creasy', 'wang', 'pierce', 'homer', 'europa', 'gruner', 'karloff', 'dressler', 'luzhin', 'worms', 'sasquatch', 'weller', 'tobacco', 'raj', 'pack', 'gypo', 'brendan', 'azumi', 'zombi', 'elvira', 'jigsaw', 'mathieu', 'modesty', 'old person', 'bruce', 'morty', 'cheech', 'scarlet', 'gilliam', 'mindy', 'gandhi', 'moto', 'flea', 'robocop']\n",
      "Dimensao do vocabulario: 203983\n",
      "Numero de uni-gramas: 26718\n",
      "Numero de bi-gramas: 110646\n",
      "Numero de tri-gramas: 55542\n",
      "Numero de quadri-gramas: 11077\n"
     ]
    }
   ],
   "source": [
    "xM = np.max(X1, axis=0).toarray().squeeze()\n",
    "idx=np.argsort(-xM)\n",
    "tokens = tfidf.get_feature_names()\n",
    "voc= [tokens[i] for i in idx]\n",
    "print(voc[:100])\n",
    "\n",
    "wC = np.array([len(w.split()) for w in voc])\n",
    "print('Dimensao do vocabulario:', X1.shape[1])\n",
    "print('Numero de uni-gramas:', np.sum(wC==1))\n",
    "print('Numero de bi-gramas:', np.sum(wC==2))\n",
    "print('Numero de tri-gramas:', np.sum(wC==3))\n",
    "print('Numero de quadri-gramas:', np.sum(wC==4))"
   ]
  },
  {
   "cell_type": "code",
   "execution_count": 40,
   "metadata": {},
   "outputs": [
    {
     "name": "stdout",
     "output_type": "stream",
     "text": [
      "0.77096\n",
      "0.77456\n",
      "45\n",
      "['worst', 'bad', 'waste', 'awful', 'boring', 'nothing', 'poor', 'even', 'just', 'terrible', 'plot', 'minutes', 'stupid', 'script', 'they', 'there', 'why', 'any', 'was', 'only', 'worse', 'this', 'movie', 'would', 'horrible', 'have', 'not', 'make', 'could', 'she claims', 'she falls love with', 'she fantastic', 'she far', 'she feels', 'she can get', 'she feels she', 'she fell', 'she felt', 'she female', 'she finally', 'she find', 'she finds', 'she finds her', 'she finds herself', 'she finds out', 'she finds out that', 'she finds that', 'she first', 'she can even', 'she falls love']\n",
      "\n",
      " ---------------------------------------------------------------------------------------------------- \n",
      "\n",
      "['good but this one', 'good but very', 'good but was', 'good but not great', 'good but when', 'good camera', 'good camera work', 'good can', 'good car', 'good career', 'good cast', 'good cast and', 'good casting', 'good category', 'good chance', 'good bye', 'good but not', 'good but nothing', 'good better', 'good behavior', 'good balance', 'good but far', 'good but can', 'good bit', 'good bits', 'good because', 'good but all', 'good because the', 'good but after', 'good but', 'good better than', 'good book', 'good boy', 'good but had', 'loved', 'his', 'will', 'also', 'life', 'the best', 'amazing', 'perfect', 'very', 'well', 'wonderful', 'and', 'love', 'best', 'excellent', 'great']\n"
     ]
    }
   ],
   "source": [
    "dl = LogisticRegression(penalty='l1', solver='saga', max_iter=1000, C=0.1, tol= 1e-3)\n",
    "dl.fit(X1, y1)\n",
    "print(dl.score(X1, y1))\n",
    "print(dl.score(X2, y2))\n",
    "\n",
    "w = dl.coef_\n",
    "w = w.squeeze()\n",
    "print(np.sum(w!=0))\n",
    "voc = tfidf.get_feature_names()\n",
    "idx = np.argsort(w)\n",
    "voc2= [voc[i] for i in idx]\n",
    "print(voc2[:50])\n",
    "print('\\n', '-'*100 , '\\n')\n",
    "print(voc2[-50:])"
   ]
  },
  {
   "cell_type": "code",
   "execution_count": 41,
   "metadata": {},
   "outputs": [
    {
     "name": "stdout",
     "output_type": "stream",
     "text": [
      "0.88516\n",
      "0.87748\n",
      "630\n",
      "['worst', 'waste', 'awful', 'boring', 'poorly', 'bad', 'dull', 'poor', 'disappointment', 'fails', 'horrible', 'worse', 'terrible', 'annoying', 'mess', 'disappointing', 'unfortunately', 'laughable', 'pointless', 'nothing', 'lacks', 'avoid', 'not worth', 'ridiculous', 'save', 'badly', 'lame', 'supposed', 'script', 'stupid', 'unfunny', 'instead', 'redeeming', 'pathetic', 'minutes', 'unless', 'crap', 'forgettable', 'wasted', 'than this', 'predictable', 'not even', 'way too', 'looks', 'attempt', 'wonder', 'basically', 'weak', 'wooden', 'mediocre']\n",
      "\n",
      " ---------------------------------------------------------------------------------------------------- \n",
      "\n",
      "['subtle', 'especially', 'hilarious', 'job', 'world', 'surprised', 'better than', 'entertaining', 'seen', 'also', 'enjoy', 'beautifully', 'both', 'gem', 'touching', 'still', 'the best', 'this great', 'incredible', 'love', 'well', 'liked', 'bit', 'funniest', 'simple', 'noir', 'perfectly', 'beautiful', 'refreshing', 'rare', 'definitely', 'best', 'enjoyed', 'fun', 'highly', 'fantastic', 'loved', 'enjoyable', 'must see', 'well worth', 'brilliant', 'today', 'superb', 'wonderfully', 'favorite', 'amazing', 'wonderful', 'perfect', 'great', 'excellent']\n"
     ]
    }
   ],
   "source": [
    "dl = LogisticRegression(penalty='l1', solver='saga', max_iter=1000, C=1, tol= 1e-3)\n",
    "dl.fit(X1, y1)\n",
    "print(dl.score(X1, y1))\n",
    "print(dl.score(X2, y2))\n",
    "\n",
    "w = dl.coef_\n",
    "w = w.squeeze()\n",
    "print(np.sum(w!=0))\n",
    "voc = tfidf.get_feature_names()\n",
    "idx = np.argsort(w)\n",
    "voc2= [voc[i] for i in idx]\n",
    "print(voc2[:50])\n",
    "print('\\n', '-'*100 , '\\n')\n",
    "print(voc2[-50:])"
   ]
  },
  {
   "cell_type": "code",
   "execution_count": 42,
   "metadata": {},
   "outputs": [
    {
     "name": "stdout",
     "output_type": "stream",
     "text": [
      "0.9962\n",
      "0.88816\n",
      "6855\n",
      "['waste', 'not worth', 'awful', 'worst', 'disappointment', 'poorly', 'boring', 'lacks', 'forgettable', 'laughable', 'mess', 'worse', 'unfunny', 'one the worst', 'horrible', 'disappointing', 'fails', 'avoid', 'poor', 'this film just', 'bad', 'pointless', 'annoying', 'the introduction', 'badly', 'alright', 'baldwin', 'lousy', 'dull', 'save', 'redeeming', 'obnoxious', 'basically', 'fast forward', 'not recommend', 'terrible', 'the excellent', 'very disappointed', 'unfortunately', 'way too', 'let down', 'not recommended', 'ridiculous', 'supposed', 'had high', 'pretentious', 'unwatchable', 'britney', 'unconvincing', 'than this']\n",
      "\n",
      " ---------------------------------------------------------------------------------------------------- \n",
      "\n",
      "['noir', 'loved', 'even better', 'may not', 'gem', 'recommended', 'predictable but', 'surprisingly', 'underrated', 'very good', 'atmosphere', 'better but', 'the movie however', 'british comedy', 'subtle', 'love this', 'likable and', 'must see', 'captures', 'you only', 'brilliant', 'today', 'not disappointed', 'perfect the', 'loved this', 'favorite', 'lot things', 'kitty', 'whoopi', 'his way', 'enjoyable', 'funniest', 'flawless', 'cerebral', 'wonderful', 'surprisingly good', 'amazing', 'superb', 'great', 'incredible', 'much better than', 'rare', 'evil breed', 'refreshing', 'wonderfully', 'this great', 'well worth', 'perfect', 'excellent', 'definitely worth']\n"
     ]
    }
   ],
   "source": [
    "dl = LogisticRegression(penalty='l1', solver='saga', max_iter=1000, C=10, tol= 1e-3)\n",
    "dl.fit(X1, y1)\n",
    "print(dl.score(X1, y1))\n",
    "print(dl.score(X2, y2))\n",
    "\n",
    "w = dl.coef_\n",
    "w = w.squeeze()\n",
    "print(np.sum(w!=0))\n",
    "voc = tfidf.get_feature_names()\n",
    "idx = np.argsort(w)\n",
    "voc2= [voc[i] for i in idx]\n",
    "print(voc2[:50])\n",
    "print('\\n', '-'*100 , '\\n')\n",
    "print(voc2[-50:])"
   ]
  },
  {
   "cell_type": "code",
   "execution_count": null,
   "metadata": {},
   "outputs": [],
   "source": []
  }
 ],
 "metadata": {
  "kernelspec": {
   "display_name": "Python 3",
   "language": "python",
   "name": "python3"
  },
  "language_info": {
   "codemirror_mode": {
    "name": "ipython",
    "version": 3
   },
   "file_extension": ".py",
   "mimetype": "text/x-python",
   "name": "python",
   "nbconvert_exporter": "python",
   "pygments_lexer": "ipython3",
   "version": "3.8.5"
  }
 },
 "nbformat": 4,
 "nbformat_minor": 4
}
