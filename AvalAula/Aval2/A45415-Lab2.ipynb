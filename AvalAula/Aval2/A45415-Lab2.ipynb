{
 "cells": [
  {
   "cell_type": "markdown",
   "metadata": {},
   "source": [
    "## LAB2: Classificadores baseados em distâncias entre pontos"
   ]
  },
  {
   "cell_type": "markdown",
   "metadata": {},
   "source": [
    "<hr style=\"border:1px  solid black\"> </hr>"
   ]
  },
  {
   "cell_type": "markdown",
   "metadata": {},
   "source": [
    "### (Preencher)\n",
    "## Nome: Pedro Henriques\n",
    "## Número: 45415"
   ]
  },
  {
   "cell_type": "markdown",
   "metadata": {},
   "source": [
    "<hr style=\"border:1px  solid black\"> </hr>"
   ]
  },
  {
   "cell_type": "markdown",
   "metadata": {},
   "source": [
    "## Desenvolva e corra o código pedido nas células imediatamente abaixo das perguntas."
   ]
  },
  {
   "cell_type": "markdown",
   "metadata": {},
   "source": [
    "# IMPORTANTE:\n",
    "## Uma vez completado, grave este Jupyter notebook com o seguinte nome:\n",
    "## Axxxxx-Lab2.ipynb (Axxxxx: número de aluno)\n",
    "##  e depois submeta o ficheiro no link do Moodle providenciado para o efeito."
   ]
  },
  {
   "cell_type": "markdown",
   "metadata": {},
   "source": [
    "<hr style=\"border:2px solid black\"> </hr>"
   ]
  },
  {
   "cell_type": "markdown",
   "metadata": {},
   "source": [
    "## Considere o ficheiro pickle $\\texttt{Lab2Data.p}$\n",
    "### Neste ficheiro encontra-se um dicionário de Python com as seguintes variáveis:\n",
    "### 1. \"X\":             dados bi-dimensionais (840 amostras)\n",
    "### 2. \"y\":              classe dos dados (inteiros de 0 a 3)\n",
    "### 3. \"foldTrain\": array boleano indicando os dados a serem usados para treinar os classificadores\n",
    "### 3. \"foldTest\": array boleano indicando os dados a serem usados para testar os classificadores\n"
   ]
  },
  {
   "cell_type": "markdown",
   "metadata": {},
   "source": [
    "<hr style=\"border:2px solid black\"> </hr>"
   ]
  },
  {
   "cell_type": "markdown",
   "metadata": {},
   "source": [
    "# Pergunta 1 - Classificadores da distância ao centroide:\n",
    "## 1. Use os dados de treino para estimar os centroides de cada classe. Imprima os valores obtidos para cada classe, indicando a classe em questão.\n",
    "## 2. Com a métrica de distância euclideana, calcule a matriz de confusão e o número total de erros nos dados de teste.\n",
    "## 3. Com a métrica de distância de cosseno, calcule a matriz de confusão e o número total de erros nos dados de teste."
   ]
  },
  {
   "cell_type": "code",
   "execution_count": 2,
   "metadata": {},
   "outputs": [],
   "source": [
    "import matplotlib.pyplot as plt\n",
    "import numpy as np\n",
    "import scipy.spatial.distance as spd\n",
    "import pickle\n",
    "from sklearn.metrics import confusion_matrix\n"
   ]
  },
  {
   "cell_type": "code",
   "execution_count": 3,
   "metadata": {},
   "outputs": [
    {
     "name": "stdout",
     "output_type": "stream",
     "text": [
      "dict_keys(['X', 'y', 'foldTrain', 'foldTest'])\n",
      "classes [0. 1. 2. 3.]\n",
      "\n",
      "CENTROS\n",
      " classe 0  [ 5.22915766 -2.89554056] classe 1  [-3.29135882 -2.60751409] classe 2  [-1.71711048  1.24521526]  classe 3  [0.04809114 5.20207983]\n"
     ]
    }
   ],
   "source": [
    "fName = 'Lab2Data.p'\n",
    "D = pickle.load(open(fName, 'rb'))\n",
    "\n",
    "print(D.keys())\n",
    "X = D['X']\n",
    "y = D['y']\n",
    "f1 = D['foldTrain']\n",
    "f2 = D['foldTest']\n",
    "\n",
    "\n",
    "#medias \n",
    "m0 = np.mean(X[:,y==0], axis=1)\n",
    "m1 = np.mean(X[:,y==1], axis=1)\n",
    "m2 = np.mean(X[:,y==2], axis=1)\n",
    "m3 = np.mean(X[:,y==3], axis=1)\n",
    "print('classes' , np.unique(y)) \n",
    "print('\\nCENTROS\\n', 'classe 0 ' , m0 , 'classe 1 ' , m1 , 'classe 2 ', m2, ' classe 3 ' , m3)"
   ]
  },
  {
   "cell_type": "code",
   "execution_count": 4,
   "metadata": {},
   "outputs": [
    {
     "name": "stdout",
     "output_type": "stream",
     "text": [
      "MC\n",
      " [[213   0   0   0]\n",
      " [  3 246   0   0]\n",
      " [  0  11 148  18]\n",
      " [  1   0  14 186]]\n",
      "total erros 47\n"
     ]
    }
   ],
   "source": [
    "## distancias\n",
    "\n",
    "D0 = np.sqrt(np.sum((X-m0[:, np.newaxis])**2, axis = 0))\n",
    "D1 = np.sqrt(np.sum((X-m1[:, np.newaxis])**2, axis = 0)) \n",
    "D2 = np.sqrt(np.sum((X-m2[:, np.newaxis])**2, axis = 0))\n",
    "D3 = np.sqrt(np.sum((X-m3[:, np.newaxis])**2, axis = 0))\n",
    "\n",
    "D = np.vstack((D0, D1, D2, D3))\n",
    "ye = np.argmin(D, axis = 0)\n",
    "\n",
    "MC = confusion_matrix(y,ye)\n",
    "print('MC\\n' ,MC )\n",
    "print('total erros' , np.sum(y!=ye))"
   ]
  },
  {
   "cell_type": "code",
   "execution_count": 5,
   "metadata": {
    "scrolled": true
   },
   "outputs": [
    {
     "name": "stdout",
     "output_type": "stream",
     "text": [
      "[[213   0   0   0]\n",
      " [  2 243   4   0]\n",
      " [  0   0 165  12]\n",
      " [  1   0  16 184]]\n",
      "35\n"
     ]
    }
   ],
   "source": [
    "from scipy.linalg import inv, pinv\n",
    "\n",
    "S0 = np.cov(X[:,y==0])\n",
    "S0i = pinv(S0)\n",
    "Xtmp = X - m0[:,np.newaxis]\n",
    "D0 = np.sqrt(np.sum(Xtmp*np.dot(S0i, Xtmp) , axis=0))\n",
    "\n",
    "S1 = np.cov(X[:,y==1])\n",
    "S1i = pinv(S1)\n",
    "Xtmp = X - m1[:,np.newaxis]\n",
    "D1 = np.sqrt(np.sum(Xtmp*np.dot(S1i, Xtmp) , axis=0))\n",
    "\n",
    "S2 = np.cov(X[:,y==2])\n",
    "S2i = pinv(S2)\n",
    "Xtmp = X - m2[:,np.newaxis]\n",
    "D2 = np.sqrt(np.sum(Xtmp*np.dot(S2i, Xtmp) , axis=0))\n",
    "\n",
    "S3 = np.cov(X[:,y==3])\n",
    "S3i = pinv(S3)\n",
    "Xtmp = X - m3[:,np.newaxis]\n",
    "D3 = np.sqrt(np.sum(Xtmp*np.dot(S3i, Xtmp) , axis=0))\n",
    "\n",
    "D = np.vstack((D0, D1, D2, D3))\n",
    "y1e = np.argmin(D, axis=0)\n",
    "\n",
    "MC= confusion_matrix(y,y1e)\n",
    "print(MC) \n",
    "print(np.sum(y!=y1e))"
   ]
  },
  {
   "cell_type": "markdown",
   "metadata": {},
   "source": [
    "## Solucao"
   ]
  },
  {
   "cell_type": "code",
   "execution_count": 15,
   "metadata": {},
   "outputs": [
    {
     "name": "stdout",
     "output_type": "stream",
     "text": [
      "\n",
      "CENTROS\n",
      " classe 0  [ 5.14228406 -3.01407307] classe 1  [-3.25743758 -2.53544477] classe 2  [-1.68691942  1.46970542]  classe 3  [0.11366889 5.28098864]\n",
      "[[160   0   0   0]\n",
      " [  3 186   0   0]\n",
      " [  0  16 104   4]\n",
      " [  1   0  16 132]]\n",
      "40\n",
      "[[160   0   0   0]\n",
      " [  5 184   0   0]\n",
      " [  8  39  77   0]\n",
      " [  5   0 144   0]]\n",
      "201\n"
     ]
    }
   ],
   "source": [
    "D = pickle.load(open(fName, 'rb'))\n",
    "\n",
    "X = D['X']\n",
    "y = D['y']\n",
    "f1 = D['foldTrain']\n",
    "f2 = D['foldTest']\n",
    "\n",
    "\n",
    "X1 = X[:,f1]\n",
    "y1 = y[f1]\n",
    "X2 = X[:,f2]\n",
    "y2 = y[f2]\n",
    "\n",
    "m0 = np.mean(X1[:,y1==0], axis=1)\n",
    "m1 = np.mean(X1[:,y1==1], axis=1)\n",
    "m2 = np.mean(X1[:,y1==2], axis=1)\n",
    "m3 = np.mean(X1[:,y1==3], axis=1)\n",
    "\n",
    "print('\\nCENTROS\\n', 'classe 0 ' , m0 , 'classe 1 ' , m1 , 'classe 2 ', m2, ' classe 3 ' , m3)\n",
    "\n",
    "\n",
    "D0 = np.sqrt(np.sum((X2-m0[:, np.newaxis])**2, axis = 0))\n",
    "D1 = np.sqrt(np.sum((X2-m1[:, np.newaxis])**2, axis = 0)) \n",
    "D2 = np.sqrt(np.sum((X2-m2[:, np.newaxis])**2, axis = 0))\n",
    "D3 = np.sqrt(np.sum((X2-m3[:, np.newaxis])**2, axis = 0))\n",
    "\n",
    "D = np.vstack((D0, D1, D2, D3))\n",
    "y2e = np.argmin(D, axis = 0)\n",
    "print(confusion_matrix(y2, y2e))\n",
    "print(np.sum(y2!=y2e))\n",
    "\n",
    "\n",
    "\n",
    "nx2 = np.sqrt(np.sum(X2**2, axis = 0))\n",
    "X2n = X2/nx2\n",
    "\n",
    "m0n = m0/np.sqrt(np.sum(m0**2))\n",
    "D0c= 1-np.dot(m0n,X2n)\n",
    "m1n = m1/np.sqrt(np.sum(m1**2))\n",
    "D1c= 1-np.dot(m1n,X2n)\n",
    "m2n = m2/np.sqrt(np.sum(m2**2))\n",
    "D2c= 1-np.dot(m2n,X2n)\n",
    "m3n = m2/np.sqrt(np.sum(m3**2))\n",
    "D3c= 1-np.dot(m3n,X2n)\n",
    "\n",
    "\n",
    "D = np.vstack((D0c, D1c, D2c, D3c))\n",
    "y2e = np.argmin(D, axis = 0)\n",
    "print(confusion_matrix(y2, y2e))\n",
    "print(np.sum(y2!=y2e))\n",
    "\n"
   ]
  },
  {
   "cell_type": "markdown",
   "metadata": {},
   "source": [
    "# Pergunta 2 - Classificadores dos k-vizinhos mais próximos:\n",
    "## (Use os dados de treino nestes classificadores)\n",
    "## 1. Para k=1, calcule a matriz de confusão e o número total de erros nos dados de teste. \n",
    "## 2. Faça um plot dos dados de teste por classe e dos erros cometidos por este classificador.\n",
    "## 3. Repita as duas alíneas anteriores para k=5"
   ]
  },
  {
   "cell_type": "code",
   "execution_count": 17,
   "metadata": {},
   "outputs": [
    {
     "name": "stdout",
     "output_type": "stream",
     "text": [
      "Erros 16\n",
      "MC\n",
      " [[160   0   0   0]\n",
      " [  1 188   0   0]\n",
      " [  0   0 123   1]\n",
      " [  1   0  13 135]]\n"
     ]
    }
   ],
   "source": [
    "from sklearn.neighbors import KNeighborsClassifier\n",
    "\n",
    "X1=X[:,f1].T\n",
    "X2=X[:,f2].T\n",
    "y1=y[f1]\n",
    "y2=y[f2]\n",
    "\n",
    "knn = KNeighborsClassifier(n_neighbors=1).fit(X1,y1)\n",
    "y2e= knn.predict(X2)\n",
    "print('Erros', np.sum(y2e!=y2))\n",
    "print('MC\\n' , confusion_matrix(y2,y2e))\n"
   ]
  },
  {
   "cell_type": "code",
   "execution_count": 18,
   "metadata": {
    "scrolled": true
   },
   "outputs": [
    {
     "data": {
      "text/plain": [
       "[<matplotlib.lines.Line2D at 0x1a8f14f57c0>]"
      ]
     },
     "execution_count": 18,
     "metadata": {},
     "output_type": "execute_result"
    },
    {
     "data": {
      "image/png": "[encoded data removed]",
      "text/plain": [
       "<Figure size 432x288 with 1 Axes>"
      ]
     },
     "metadata": {
      "needs_background": "light"
     },
     "output_type": "display_data"
    }
   ],
   "source": [
    "plt.plot(X2[y2!=y2e, 0], X2[y2!=y2e, 1],'ok', alpha=0.5)\n",
    "\n"
   ]
  },
  {
   "cell_type": "markdown",
   "metadata": {},
   "source": [
    "## Solucao"
   ]
  },
  {
   "cell_type": "code",
   "execution_count": 19,
   "metadata": {},
   "outputs": [
    {
     "name": "stdout",
     "output_type": "stream",
     "text": [
      "Erros 16\n",
      "MC\n",
      " [[160   0   0   0]\n",
      " [  1 188   0   0]\n",
      " [  0   0 123   1]\n",
      " [  1   0  13 135]]\n"
     ]
    }
   ],
   "source": [
    "from sklearn.neighbors import KNeighborsClassifier\n",
    "\n",
    "knn = KNeighborsClassifier(n_neighbors=1).fit(X1,y1)\n",
    "y2e= knn.predict(X2)\n",
    "print('Erros', np.sum(y2e!=y2))\n",
    "print('MC\\n' , confusion_matrix(y2,y2e))\n"
   ]
  },
  {
   "cell_type": "code",
   "execution_count": null,
   "metadata": {},
   "outputs": [],
   "source": []
  }
 ],
 "metadata": {
  "kernelspec": {
   "display_name": "Python 3",
   "language": "python",
   "name": "python3"
  },
  "language_info": {
   "codemirror_mode": {
    "name": "ipython",
    "version": 3
   },
   "file_extension": ".py",
   "mimetype": "text/x-python",
   "name": "python",
   "nbconvert_exporter": "python",
   "pygments_lexer": "ipython3",
   "version": "3.8.3"
  }
 },
 "nbformat": 4,
 "nbformat_minor": 4
}
