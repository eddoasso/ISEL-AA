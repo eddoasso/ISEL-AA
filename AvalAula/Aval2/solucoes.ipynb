{
 "cells": [
  {
   "cell_type": "markdown",
   "metadata": {},
   "source": [
    "## LAB2: Classificadores baseados em distâncias entre pontos"
   ]
  },
  {
   "cell_type": "markdown",
   "metadata": {},
   "source": [
    "<hr style=\"border:1px  solid black\"> </hr>"
   ]
  },
  {
   "cell_type": "markdown",
   "metadata": {},
   "source": [
    "### (Preencher)\n",
    "## Nome: \n",
    "## Número: "
   ]
  },
  {
   "cell_type": "markdown",
   "metadata": {},
   "source": [
    "<hr style=\"border:1px  solid black\"> </hr>"
   ]
  },
  {
   "cell_type": "markdown",
   "metadata": {},
   "source": [
    "## Desenvolva e corra o código pedido nas células imediatamente abaixo das perguntas."
   ]
  },
  {
   "cell_type": "markdown",
   "metadata": {},
   "source": [
    "# IMPORTANTE:\n",
    "## Uma vez completado, grave este Jupyter notebook com o seguinte nome:\n",
    "## Axxxxx-Lab2.ipynb (Axxxxx: número de aluno)\n",
    "##  e depois submeta o ficheiro no link do Moodle providenciado para o efeito."
   ]
  },
  {
   "cell_type": "markdown",
   "metadata": {},
   "source": [
    "<hr style=\"border:2px solid black\"> </hr>"
   ]
  },
  {
   "cell_type": "markdown",
   "metadata": {},
   "source": [
    "## Considere o ficheiro pickle $\\texttt{Lab2Data.p}$\n",
    "### Neste ficheiro encontra-se um dicionário de Python com as seguintes variáveis:\n",
    "### 1. \"X\":             dados bi-dimensionais (840 amostras)\n",
    "### 2. \"y\":              classe dos dados (inteiros de 0 a 3)\n",
    "### 3. \"foldTrain\": array boleano indicando os dados a serem usados para treinar os classificadores\n",
    "### 3. \"foldTest\": array boleano indicando os dados a serem usados para testar os classificadores\n"
   ]
  },
  {
   "cell_type": "markdown",
   "metadata": {},
   "source": [
    "<hr style=\"border:2px solid black\"> </hr>"
   ]
  },
  {
   "cell_type": "markdown",
   "metadata": {},
   "source": [
    "# Pergunta 1 - Classificadores da distância ao centroide:\n",
    "## 1. Use os dados de treino para estimar os centroides de cada classe. Imprima os valores obtidos para cada classe, indicando a classe em questão.\n",
    "## 2. Com a métrica de distância euclideana, calcule a matriz de confusão e o número total de erros nos dados de teste.\n",
    "## 3. Com a métrica de distância de cosseno, calcule a matriz de confusão e o número total de erros nos dados de teste."
   ]
  },
  {
   "cell_type": "code",
   "execution_count": 1,
   "metadata": {},
   "outputs": [
    {
     "name": "stdout",
     "output_type": "stream",
     "text": [
      "dict_keys(['X', 'y', 'foldTrain', 'foldTest'])\n"
     ]
    }
   ],
   "source": [
    "import numpy as np\n",
    "import matplotlib.pyplot as plt\n",
    "import pickle\n",
    "D=pickle.load(open('Lab2Data.p','rb'))\n",
    "print(D.keys())"
   ]
  },
  {
   "cell_type": "code",
   "execution_count": 2,
   "metadata": {},
   "outputs": [
    {
     "name": "stdout",
     "output_type": "stream",
     "text": [
      "(2, 840)\n"
     ]
    },
    {
     "data": {
      "image/png": "[encoded data removed]",
      "text/plain": [
       "<Figure size 432x288 with 1 Axes>"
      ]
     },
     "metadata": {
      "needs_background": "light"
     },
     "output_type": "display_data"
    }
   ],
   "source": [
    "X=D['X']\n",
    "y=D['y']\n",
    "print(X.shape)\n",
    "plt.plot(X[0,y==0],X[1,y==0],'.')\n",
    "plt.plot(X[0,y==1],X[1,y==1],'.')\n",
    "plt.plot(X[0,y==2],X[1,y==2],'.')\n",
    "plt.plot(X[0,y==3],X[1,y==3],'.')\n",
    "plt.axis('scaled')\n",
    "plt.grid(True)"
   ]
  },
  {
   "cell_type": "code",
   "execution_count": 4,
   "metadata": {},
   "outputs": [
    {
     "name": "stdout",
     "output_type": "stream",
     "text": [
      "(2, 218)\n",
      "(2, 622)\n"
     ]
    }
   ],
   "source": [
    "f1=D['foldTrain']\n",
    "f2=D['foldTest']\n",
    "X1=X[:,f1]\n",
    "print(X1.shape)\n",
    "y1=y[f1]\n",
    "X2=X[:,f2]\n",
    "print(X2.shape)\n",
    "y2=y[f2]\n"
   ]
  },
  {
   "cell_type": "code",
   "execution_count": 7,
   "metadata": {},
   "outputs": [
    {
     "name": "stdout",
     "output_type": "stream",
     "text": [
      "Média da classe 0: [ 5.14228406 -3.01407307]\n",
      "Média da classe 1: [-3.25743758 -2.53544477]\n",
      "Média da classe 2: [-1.68691942  1.46970542]\n",
      "Média da classe 3: [0.11366889 5.28098864]\n"
     ]
    }
   ],
   "source": [
    "m0=np.mean(X1[:,y1==0],axis=1)\n",
    "print('Média da classe 0:', m0)\n",
    "m1=np.mean(X1[:,y1==1],axis=1)\n",
    "print('Média da classe 1:', m1)\n",
    "m2=np.mean(X1[:,y1==2],axis=1)\n",
    "print('Média da classe 2:', m2)\n",
    "m3=np.mean(X1[:,y1==3],axis=1)\n",
    "print('Média da classe 3:', m3)"
   ]
  },
  {
   "cell_type": "code",
   "execution_count": 13,
   "metadata": {},
   "outputs": [
    {
     "name": "stdout",
     "output_type": "stream",
     "text": [
      "Nº Total de Erros no teste: 40\n",
      "[[160   0   0   0]\n",
      " [  3 186   0   0]\n",
      " [  0  16 104   4]\n",
      " [  1   0  16 132]]\n"
     ]
    }
   ],
   "source": [
    "\n",
    "Xtmp=X2-m0[:,np.newaxis]\n",
    "D0=np.sqrt(np.sum(Xtmp**2,axis=0))\n",
    "Xtmp=X2-m1[:,np.newaxis]\n",
    "D1=np.sqrt(np.sum(Xtmp**2,axis=0))\n",
    "Xtmp=X2-m2[:,np.newaxis]\n",
    "D2=np.sqrt(np.sum(Xtmp**2,axis=0))\n",
    "Xtmp=X2-m3[:,np.newaxis]\n",
    "D3=np.sqrt(np.sum(Xtmp**2,axis=0))\n",
    "D=np.vstack((D0,D1,D2,D3))\n",
    "y2e=np.argmin(D,axis=0)\n",
    "print('Nº Total de Erros no teste:',np.sum(y2!=y2e))\n",
    "from sklearn.metrics import confusion_matrix\n",
    "print(confusion_matrix(y2,y2e))"
   ]
  },
  {
   "cell_type": "code",
   "execution_count": 40,
   "metadata": {},
   "outputs": [
    {
     "name": "stdout",
     "output_type": "stream",
     "text": [
      "Nº Total de Erros no teste: 98\n",
      "[[160   0   0   0]\n",
      " [  5 184   0   0]\n",
      " [  1  39  45  39]\n",
      " [  1   0  13 135]]\n"
     ]
    }
   ],
   "source": [
    "nx2=np.sqrt(np.sum(X2**2,axis=0))\n",
    "X2n=X2/nx2\n",
    "m0n=m0/np.sqrt(np.sum(m0**2))\n",
    "m1n=m1/np.sqrt(np.sum(m1**2))\n",
    "m2n=m2/np.sqrt(np.sum(m2**2))\n",
    "m3n=m3/np.sqrt(np.sum(m3**2))\n",
    "M=np.vstack((m0n,m1n,m2n,m3n))\n",
    "D=1-np.dot(M,X2n)\n",
    "y2e=np.argmin(D,axis=0)\n",
    "print('Nº Total de Erros no teste:',np.sum(y2!=y2e))\n",
    "from sklearn.metrics import confusion_matrix\n",
    "print(confusion_matrix(y2,y2e))"
   ]
  },
  {
   "cell_type": "code",
   "execution_count": 36,
   "metadata": {},
   "outputs": [
    {
     "data": {
      "text/plain": [
       "1.0000000000000002"
      ]
     },
     "execution_count": 36,
     "metadata": {},
     "output_type": "execute_result"
    }
   ],
   "source": [
    "np.sum(m3n**2)"
   ]
  },
  {
   "cell_type": "markdown",
   "metadata": {},
   "source": [
    "# Pergunta 2 - Classificadores dos k-vizinhos mais próximos:\n",
    "## (Use os dados de treino nestes classificadores)\n",
    "## 1. Para k=1, calcule a matriz de confusão e o número total de erros nos dados de teste. \n",
    "## 2. Faça um plot dos dados de teste por classe e dos erros cometidos por este classificador.\n",
    "## 3. Repita as duas alíneas anteriores para k=5"
   ]
  },
  {
   "cell_type": "code",
   "execution_count": 43,
   "metadata": {},
   "outputs": [
    {
     "name": "stdout",
     "output_type": "stream",
     "text": [
      "Nº Total de Erros no teste: 16\n",
      "[[160   0   0   0]\n",
      " [  1 188   0   0]\n",
      " [  0   0 123   1]\n",
      " [  1   0  13 135]]\n"
     ]
    }
   ],
   "source": [
    "from sklearn.neighbors import KNeighborsClassifier\n",
    "knn=KNeighborsClassifier(n_neighbors=1).fit(X1.T,y1)\n",
    "y2e=knn.predict(X2.T)\n",
    "print('Nº Total de Erros no teste:',np.sum(y2!=y2e))\n",
    "from sklearn.metrics import confusion_matrix\n",
    "print(confusion_matrix(y2,y2e))"
   ]
  },
  {
   "cell_type": "code",
   "execution_count": 47,
   "metadata": {},
   "outputs": [
    {
     "data": {
      "text/plain": [
       "(-5.3977751189098155, 7.990643212903578, -8.626616308229567, 11.25646715031953)"
      ]
     },
     "execution_count": 47,
     "metadata": {},
     "output_type": "execute_result"
    },
    {
     "data": {
      "image/png": "[encoded data removed]",
      "text/plain": [
       "<Figure size 432x288 with 1 Axes>"
      ]
     },
     "metadata": {
      "needs_background": "light"
     },
     "output_type": "display_data"
    }
   ],
   "source": [
    "plt.plot(X2[0,y2==0],X2[1,y2==0],'.')\n",
    "plt.plot(X2[0,y2==1],X2[1,y2==1],'.')\n",
    "plt.plot(X2[0,y2==2],X2[1,y2==2],'.')\n",
    "plt.plot(X2[0,y2==3],X2[1,y2==3],'.')\n",
    "plt.plot(X2[0,y2!=y2e],X2[1,y2!=y2e],'ok',alpha=.4)\n",
    "plt.axis('scaled')"
   ]
  },
  {
   "cell_type": "code",
   "execution_count": 48,
   "metadata": {},
   "outputs": [
    {
     "name": "stdout",
     "output_type": "stream",
     "text": [
      "Nº Total de Erros no teste: 28\n",
      "[[160   0   0   0]\n",
      " [  2 187   0   0]\n",
      " [  0   0 124   0]\n",
      " [  1   0  25 123]]\n"
     ]
    },
    {
     "data": {
      "text/plain": [
       "(-5.3977751189098155, 7.990643212903578, -8.626616308229567, 11.25646715031953)"
      ]
     },
     "execution_count": 48,
     "metadata": {},
     "output_type": "execute_result"
    },
    {
     "data": {
      "image/png": "[encoded data removed]",
      "text/plain": [
       "<Figure size 432x288 with 1 Axes>"
      ]
     },
     "metadata": {
      "needs_background": "light"
     },
     "output_type": "display_data"
    }
   ],
   "source": [
    "from sklearn.neighbors import KNeighborsClassifier\n",
    "knn=KNeighborsClassifier(n_neighbors=5).fit(X1.T,y1)\n",
    "y2e=knn.predict(X2.T)\n",
    "print('Nº Total de Erros no teste:',np.sum(y2!=y2e))\n",
    "from sklearn.metrics import confusion_matrix\n",
    "print(confusion_matrix(y2,y2e))\n",
    "plt.plot(X2[0,y2==0],X2[1,y2==0],'.')\n",
    "plt.plot(X2[0,y2==1],X2[1,y2==1],'.')\n",
    "plt.plot(X2[0,y2==2],X2[1,y2==2],'.')\n",
    "plt.plot(X2[0,y2==3],X2[1,y2==3],'.')\n",
    "plt.plot(X2[0,y2!=y2e],X2[1,y2!=y2e],'ok',alpha=.4)\n",
    "plt.axis('scaled')"
   ]
  },
  {
   "cell_type": "code",
   "execution_count": null,
   "metadata": {},
   "outputs": [],
   "source": []
  }
 ],
 "metadata": {
  "kernelspec": {
   "display_name": "Python 3",
   "language": "python",
   "name": "python3"
  },
  "language_info": {
   "codemirror_mode": {
    "name": "ipython",
    "version": 3
   },
   "file_extension": ".py",
   "mimetype": "text/x-python",
   "name": "python",
   "nbconvert_exporter": "python",
   "pygments_lexer": "ipython3",
   "version": "3.8.3"
  }
 },
 "nbformat": 4,
 "nbformat_minor": 4
}
