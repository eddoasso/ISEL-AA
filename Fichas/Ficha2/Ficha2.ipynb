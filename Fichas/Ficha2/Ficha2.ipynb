{
 "cells": [
  {
   "cell_type": "code",
   "execution_count": 3,
   "metadata": {},
   "outputs": [],
   "source": [
    "import numpy as np\n",
    "import scipy.spatial.distance as spd\n",
    "import pickle\n",
    "from numpy.linalg import pinv\n",
    "from sklearn.metrics import confusion_matrix"
   ]
  },
  {
   "cell_type": "markdown",
   "metadata": {},
   "source": [
    "## EX1"
   ]
  },
  {
   "cell_type": "code",
   "execution_count": 4,
   "metadata": {},
   "outputs": [],
   "source": [
    "X0 =np.array([[2, 1, -1, 2, 2] , [2, -2, -2, 0, -2]])\n",
    "X1 =np.array([[3, 5, 4, 4] , [2, 1, 2, 2]])\n",
    "\n",
    "m0 = np.mean(X0, axis=1)\n",
    "m1 = np.mean(X1, axis=1)"
   ]
  },
  {
   "cell_type": "markdown",
   "metadata": {},
   "source": [
    "### A))"
   ]
  },
  {
   "cell_type": "code",
   "execution_count": 5,
   "metadata": {},
   "outputs": [
    {
     "name": "stdout",
     "output_type": "stream",
     "text": [
      "[0 0]\n"
     ]
    }
   ],
   "source": [
    "cov0 = np.cov(X0)\n",
    "S0i = pinv(cov0)\n",
    "cov1 = np.cov(X1)\n",
    "S1i = pinv(cov1)\n",
    "\n",
    "X = [np.array([-4, 0]).T, np.array([-1, -1]).T]\n",
    "\n",
    "D0 = np.sqrt(np.sum((X-m0[:,np.newaxis])*np.dot(S0i,X-m1[:,np.newaxis]), axis=0))\n",
    "D1 = np.sqrt(np.sum((X-m1[:,np.newaxis])*np.dot(S1i,X-m1[:,np.newaxis]), axis=0))\n",
    "\n",
    "D = np.vstack((D0, D1))\n",
    "ye = np.argmin(D, axis = 0)\n",
    "\n",
    "print(ye)\n",
    "\n",
    "# A) [1,0,0,0]"
   ]
  },
  {
   "cell_type": "markdown",
   "metadata": {},
   "source": [
    "### B))"
   ]
  },
  {
   "cell_type": "code",
   "execution_count": 6,
   "metadata": {},
   "outputs": [],
   "source": [
    "x0 = np.round(X0)\n",
    "x1 = np.round(X1)\n",
    "X = np.hstack((x0, x1))"
   ]
  },
  {
   "cell_type": "code",
   "execution_count": 7,
   "metadata": {},
   "outputs": [
    {
     "name": "stdout",
     "output_type": "stream",
     "text": [
      "[1 0 0 1 0 1 1 1 1]\n",
      "total  2\n",
      "matriz\n",
      " [[3 2]\n",
      " [0 4]]\n"
     ]
    }
   ],
   "source": [
    "## Fazer matriz de confusao\n",
    "nx = np.sqrt(np.sum(X**2 , axis=0))\n",
    "xn = X/nx\n",
    "\n",
    "m0n = m0/np.sqrt(np.sum(m0**2))\n",
    "m1n = m1/np.sqrt(np.sum(m1**2))\n",
    "\n",
    "M = np.vstack((m0n, m1n))\n",
    "D = 1 - np.dot(M,xn)\n",
    "\n",
    "ye=np.argmin(D,axis=0)\n",
    "y =np.array([0,0,0,0,0,1,1,1,1])\n",
    "\n",
    "\n",
    "print(ye)\n",
    "print('total ' , np.sum(y!=ye))\n",
    "print('matriz\\n' , confusion_matrix(y,ye))\n",
    "\n",
    "# B ) [0,0,0,1]"
   ]
  },
  {
   "cell_type": "markdown",
   "metadata": {},
   "source": [
    "### C))"
   ]
  },
  {
   "cell_type": "code",
   "execution_count": 8,
   "metadata": {},
   "outputs": [
    {
     "name": "stdout",
     "output_type": "stream",
     "text": [
      "man  [5.35]\n",
      "cos  [0.46]\n",
      "5.35\n"
     ]
    }
   ],
   "source": [
    "from scipy.spatial.distance import pdist\n",
    "\n",
    "m = np.vstack((m0.T,m1.T))\n",
    "\n",
    "man_dist = pdist(m, 'cityblock')\n",
    "cos_dist = pdist(m, 'cosine')\n",
    "\n",
    "print('man ' , np.round(man_dist, 2))\n",
    "print('cos ' , np.round(cos_dist, 2))\n",
    "\n",
    "man2 = np.sum(np.abs(m0-m1),axis=0)\n",
    "print(man2)\n",
    "\n",
    "# C ) [0,1,0,0]"
   ]
  },
  {
   "cell_type": "markdown",
   "metadata": {},
   "source": [
    "### D))"
   ]
  },
  {
   "cell_type": "code",
   "execution_count": 9,
   "metadata": {},
   "outputs": [
    {
     "name": "stdout",
     "output_type": "stream",
     "text": [
      "[[2.91204396 1.21655251 2.50599282 1.13137085 1.44222051 3.3286634\n",
      "  4.20475921 3.95979797 3.95979797]\n",
      " [2.01556444 4.80234318 6.25       2.65753645 4.25       1.03077641\n",
      "  1.25       0.25       0.25      ]]\n",
      "[1 0 0 0 0 1 1 1 1]\n",
      "total  1\n",
      "matriz\n",
      " [[4 1]\n",
      " [0 4]]\n"
     ]
    }
   ],
   "source": [
    "D0 = np.sqrt(np.sum((X-m0[:, np.newaxis])**2, axis = 0))\n",
    "D1 = np.sqrt(np.sum((X-m1[:, np.newaxis])**2, axis = 0))\n",
    "\n",
    "D = np.vstack((D0,D1))\n",
    "print(D)\n",
    "ye=np.argmin(D,axis=0)\n",
    "y =np.array([0,0,0,0,0,1,1,1,1])\n",
    "\n",
    "\n",
    "print(ye)\n",
    "print('total ' , np.sum(y!=ye))\n",
    "print('matriz\\n' , confusion_matrix(y,ye))\n",
    "\n",
    "\n",
    "# D ) [0,1,0,0]"
   ]
  },
  {
   "cell_type": "markdown",
   "metadata": {},
   "source": [
    "### E))"
   ]
  },
  {
   "cell_type": "code",
   "execution_count": 10,
   "metadata": {},
   "outputs": [
    {
     "name": "stdout",
     "output_type": "stream",
     "text": [
      "[0 0]\n"
     ]
    }
   ],
   "source": [
    "X = np.array([np.array([1,-2]).T, np.array([-2,-4]).T])\n",
    "\n",
    "D0 = np.sum(np.abs(X-m0), axis=0)\n",
    "D1 = np.sum(np.abs(X-m1), axis=0)\n",
    "\n",
    "D = np.vstack((D0, D1))\n",
    "ye = np.argmin(D, axis = 0)\n",
    "print(ye)\n",
    "\n",
    "# E) [0,0,1,0]"
   ]
  },
  {
   "cell_type": "markdown",
   "metadata": {},
   "source": [
    "## EX 2"
   ]
  },
  {
   "cell_type": "code",
   "execution_count": 11,
   "metadata": {},
   "outputs": [],
   "source": [
    "fName = 'A45415_Q002_data.p'\n",
    "D = pickle.load(open(fName, 'rb'))"
   ]
  },
  {
   "cell_type": "markdown",
   "metadata": {},
   "source": [
    "### A)"
   ]
  },
  {
   "cell_type": "code",
   "execution_count": 12,
   "metadata": {},
   "outputs": [
    {
     "name": "stdout",
     "output_type": "stream",
     "text": [
      "[[1102   84]\n",
      " [ 158  456]]\n",
      "[1. 1. 1. ... 0. 0. 0.]\n"
     ]
    }
   ],
   "source": [
    "print(confusion_matrix(D['trueClass'] , D['estClass']).T)\n",
    "print(D['trueClass'])\n",
    "# A) [0,1,0,0]"
   ]
  },
  {
   "cell_type": "markdown",
   "metadata": {},
   "source": [
    "### B)"
   ]
  },
  {
   "cell_type": "code",
   "execution_count": 13,
   "metadata": {},
   "outputs": [
    {
     "name": "stdout",
     "output_type": "stream",
     "text": [
      "0.875\n",
      "0.125\n"
     ]
    }
   ],
   "source": [
    "print(round(1102/(1102+158), 3))\n",
    "print(round(158/(1102+158), 3))\n",
    "\n",
    "# B) [0,0,1,0]"
   ]
  },
  {
   "cell_type": "markdown",
   "metadata": {},
   "source": [
    "### C)"
   ]
  },
  {
   "cell_type": "code",
   "execution_count": 14,
   "metadata": {},
   "outputs": [
    {
     "name": "stdout",
     "output_type": "stream",
     "text": [
      "0.3\n"
     ]
    }
   ],
   "source": [
    "print(np.sum(D['trueClass'])/len(D['trueClass']))\n",
    "\n",
    "# C) [0,1,0,0]"
   ]
  },
  {
   "cell_type": "markdown",
   "metadata": {},
   "source": [
    "## EX 3"
   ]
  },
  {
   "cell_type": "code",
   "execution_count": 18,
   "metadata": {},
   "outputs": [],
   "source": [
    "from sklearn.neighbors import KNeighborsClassifier\n",
    "\n",
    "fName = 'A45415_Q003_data.p'\n",
    "D = pickle.load(open(fName, 'rb'))\n",
    "\n",
    "X = D['X']\n",
    "y = D['trueClass']\n",
    "xTrain = D['Xtrain']\n",
    "xTest = D['Xtest']\n",
    "yTrain = D['trueClassTrain']\n",
    "yTest = D['trueClassTest']"
   ]
  },
  {
   "cell_type": "markdown",
   "metadata": {},
   "source": [
    "### A)"
   ]
  },
  {
   "cell_type": "code",
   "execution_count": 23,
   "metadata": {
    "scrolled": true
   },
   "outputs": [
    {
     "name": "stdout",
     "output_type": "stream",
     "text": [
      "erros  7\n",
      "matriz\n",
      " [[103   1   0]\n",
      " [  0 194   0]\n",
      " [  6   0 217]]\n"
     ]
    }
   ],
   "source": [
    "def myMetric(x,y):\n",
    "    m = np.array([np.array([1,-2]) , np.array([1,1])])\n",
    "    return np.dot(np.dot((x-y).T, m) , (x-y))\n",
    "\n",
    "\n",
    "knn = KNeighborsClassifier(n_neighbors=19, metric=myMetric, algorithm='brute').fit(xTrain.T, yTrain)\n",
    "y2e = knn.predict(xTest.T)\n",
    "print('erros ',np.sum(y2e != yTest))\n",
    "print('matriz\\n', confusion_matrix(yTest,y2e))\n",
    "\n",
    "# A) [1,0,0,0]\n",
    "# B) [1,0,0,0]"
   ]
  },
  {
   "cell_type": "code",
   "execution_count": 17,
   "metadata": {},
   "outputs": [],
   "source": [
    "import pickle, numpy as np\n",
    "dictionary = pickle.load(open('A45415_Ficha2_Respostas.p', 'rb'))\n",
    "\n",
    "dictionary['Q001'][0,:] = np.array([1,0,0,0])\n",
    "dictionary['Q001'][1,:] = np.array([0,0,0,1])\n",
    "dictionary['Q001'][2,:] = np.array([0,1,0,0])\n",
    "dictionary['Q001'][3,:] = np.array([0,1,0,0])\n",
    "dictionary['Q001'][4,:] = np.array([0,0,1,0])\n",
    "\n",
    "dictionary['Q002'][0,:] = np.array([0,1,0,0])\n",
    "dictionary['Q002'][1,:] = np.array([0,0,1,0])\n",
    "dictionary['Q002'][2,:] = np.array([0,1,0,0])\n",
    "\n",
    "dictionary['Q003'][0,:] = np.array([0,0,0,1])\n",
    "dictionary['Q003'][1,:] = np.array([0,0,0,1])\n",
    "\n",
    "pickle.dump(dictionary, open('A45415_Ficha2_Respostas.p','wb'))"
   ]
  },
  {
   "cell_type": "code",
   "execution_count": 1,
   "metadata": {},
   "outputs": [
    {
     "ename": "NameError",
     "evalue": "name 'dictionary' is not defined",
     "output_type": "error",
     "traceback": [
      "\u001b[1;31m---------------------------------------------------------------------------\u001b[0m",
      "\u001b[1;31mNameError\u001b[0m                                 Traceback (most recent call last)",
      "\u001b[1;32m<ipython-input-1-c8c896c3840a>\u001b[0m in \u001b[0;36m<module>\u001b[1;34m\u001b[0m\n\u001b[1;32m----> 1\u001b[1;33m \u001b[0mdictionary\u001b[0m\u001b[1;33m\u001b[0m\u001b[1;33m\u001b[0m\u001b[0m\n\u001b[0m",
      "\u001b[1;31mNameError\u001b[0m: name 'dictionary' is not defined"
     ]
    }
   ],
   "source": [
    "dictionary"
   ]
  },
  {
   "cell_type": "code",
   "execution_count": null,
   "metadata": {},
   "outputs": [],
   "source": []
  }
 ],
 "metadata": {
  "kernelspec": {
   "display_name": "Python 3",
   "language": "python",
   "name": "python3"
  },
  "language_info": {
   "codemirror_mode": {
    "name": "ipython",
    "version": 3
   },
   "file_extension": ".py",
   "mimetype": "text/x-python",
   "name": "python",
   "nbconvert_exporter": "python",
   "pygments_lexer": "ipython3",
   "version": "3.8.5"
  }
 },
 "nbformat": 4,
 "nbformat_minor": 4
}
