{
 "cells": [
  {
   "cell_type": "code",
   "execution_count": 62,
   "metadata": {},
   "outputs": [],
   "source": [
    "import matplotlib.pyplot as plt\n",
    "import numpy as np\n",
    "import pickle\n",
    "from sklearn.metrics import confusion_matrix, mean_squared_error, mean_absolute_error\n",
    "import scipy.linalg as la"
   ]
  },
  {
   "cell_type": "code",
   "execution_count": 63,
   "metadata": {},
   "outputs": [
    {
     "name": "stdout",
     "output_type": "stream",
     "text": [
      "dict_keys(['foldTrain', 'trueClass', 'foldTest', 'X'])\n",
      "(784, 15000)\n"
     ]
    }
   ],
   "source": [
    "D = pickle.load(open('MNISTsmall.p', 'rb'))\n",
    "print(D.keys())\n",
    "\n",
    "X = D['X']*1.0\n",
    "y = D['trueClass']\n",
    "f1 = D['foldTrain']\n",
    "f2 = D['foldTest']\n",
    "\n",
    "\n",
    "X1 = X[:,f1]\n",
    "X2 = X[:,f2]\n",
    "y1 = y[f1]\n",
    "y2 = y[f2]\n",
    "\n",
    "print(X.shape)"
   ]
  },
  {
   "cell_type": "markdown",
   "metadata": {},
   "source": [
    "# A)"
   ]
  },
  {
   "cell_type": "code",
   "execution_count": 76,
   "metadata": {},
   "outputs": [
    {
     "name": "stdout",
     "output_type": "stream",
     "text": [
      "3479079.0\n",
      "1884538.0\n"
     ]
    }
   ],
   "source": [
    "X7 = X2[:,y2==7]\n",
    "X7 = X7[:,:293]\n",
    "\n",
    "x1 = X7[:,50-1]\n",
    "x2 = X7[:,150-1]\n",
    "x3 = X7[:,208-1]\n",
    "x4 = X7[:,209-1]\n",
    "\n",
    "# Considere que os 50o, 151o, 208o e 209o digitos\n",
    "print(np.round(np.dot(x1,x2)))\n",
    "print(np.round(np.dot(x3,x4)))\n",
    "\n",
    "\n",
    "# i. O produto interno entre os vetores x1 e x2 e 2057026.\n",
    "#ii. O produto interno entre os vetores x3 e x4 e 1884538.\n",
    "\n",
    "#A) [0,1,0,0]"
   ]
  },
  {
   "cell_type": "markdown",
   "metadata": {},
   "source": [
    "# B)"
   ]
  },
  {
   "cell_type": "code",
   "execution_count": 77,
   "metadata": {
    "scrolled": true
   },
   "outputs": [
    {
     "name": "stdout",
     "output_type": "stream",
     "text": [
      "292\n",
      "(784, 292)\n"
     ]
    }
   ],
   "source": [
    "Cx=np.cov(X7)\n",
    "(v,W)=la.eig(Cx)\n",
    "v=v.real * 1.0         # converter para real\n",
    "W=W.real * 1.0\n",
    "\n",
    "\n",
    "idx=np.argsort(-v)     # -v para ordem decrescente\n",
    "v=v[idx]               # ordenar valores\n",
    "W=W[:,idx]             # ordenar vetores\n",
    "W=W[:,v>=10e-10]       # remover componentes com v≈ 0\n",
    "print(np.sum(v>10e-10))\n",
    "print(W.shape)\n",
    "\n",
    "#B) [1,0,0,0]"
   ]
  },
  {
   "cell_type": "markdown",
   "metadata": {},
   "source": [
    "# C)"
   ]
  },
  {
   "cell_type": "code",
   "execution_count": 78,
   "metadata": {},
   "outputs": [
    {
     "name": "stdout",
     "output_type": "stream",
     "text": [
      "Erro quadratico médio 181.0\n"
     ]
    }
   ],
   "source": [
    "x = X7[:,162-1]\n",
    "Vi = W[:,:59]\n",
    "xr = np.dot(Vi, np.dot(Vi.T, x))\n",
    "\n",
    "print('Erro quadratico médio', np.round(mean_squared_error(x,xr)))\n",
    "\n",
    "#C) [0,1,0,0]"
   ]
  },
  {
   "cell_type": "markdown",
   "metadata": {},
   "source": [
    "# D)"
   ]
  },
  {
   "cell_type": "code",
   "execution_count": 81,
   "metadata": {},
   "outputs": [
    {
     "name": "stdout",
     "output_type": "stream",
     "text": [
      "10\n"
     ]
    }
   ],
   "source": [
    "v = v/np.sum(v)\n",
    "vn = np.cumsum(v)\n",
    "\n",
    "print(np.sum(vn<0.61))\n",
    "\n",
    "#D) [0,0,1,0]"
   ]
  },
  {
   "cell_type": "markdown",
   "metadata": {},
   "source": [
    "# E)"
   ]
  },
  {
   "cell_type": "code",
   "execution_count": 82,
   "metadata": {},
   "outputs": [
    {
     "data": {
      "text/plain": [
       "<matplotlib.image.AxesImage at 0x14112be7808>"
      ]
     },
     "execution_count": 82,
     "metadata": {},
     "output_type": "execute_result"
    },
    {
     "data": {
      "image/png": "[encoded data removed]",
      "text/plain": [
       "<Figure size 432x288 with 1 Axes>"
      ]
     },
     "metadata": {
      "needs_background": "light"
     },
     "output_type": "display_data"
    }
   ],
   "source": [
    "x6 = X7[:,121-1]\n",
    "\n",
    "plt.imshow(np.reshape(255-x6,(28,28)),interpolation='none', cmap='gray')\n",
    "plt.imshow(np.reshape(W[:,9], (28,28)),interpolation='none', cmap='gray')\n",
    "\n",
    "#E) [0,0,0,1]"
   ]
  },
  {
   "cell_type": "markdown",
   "metadata": {},
   "source": [
    "# F)"
   ]
  },
  {
   "cell_type": "code",
   "execution_count": 69,
   "metadata": {},
   "outputs": [
    {
     "name": "stdout",
     "output_type": "stream",
     "text": [
      "306\n"
     ]
    }
   ],
   "source": [
    "cov7=np.cov(X7)\n",
    "idx7_0=np.diag(cov7)==0\n",
    "print(sum(idx7_0))\n",
    "\n",
    "#F) [0,0,0,1]"
   ]
  },
  {
   "cell_type": "markdown",
   "metadata": {},
   "source": [
    "# G)"
   ]
  },
  {
   "cell_type": "code",
   "execution_count": 70,
   "metadata": {},
   "outputs": [
    {
     "name": "stdout",
     "output_type": "stream",
     "text": [
      "1461.0\n",
      "79.0\n"
     ]
    }
   ],
   "source": [
    "mX = np.mean(X7, axis=1)\n",
    "print(np.round(la.norm(mX)))\n",
    "print(np.round(np.std(X7[322-1])))\n",
    "\n",
    "#G) [1,0,0,0]"
   ]
  },
  {
   "cell_type": "markdown",
   "metadata": {},
   "source": [
    "# H)"
   ]
  },
  {
   "cell_type": "code",
   "execution_count": 71,
   "metadata": {},
   "outputs": [
    {
     "name": "stdout",
     "output_type": "stream",
     "text": [
      "(784, 784)\n",
      "0.0\n"
     ]
    }
   ],
   "source": [
    "print(cov7.shape)\n",
    "print(la.det(cov7))\n",
    "\n",
    "#F) [0,1,0,0]"
   ]
  },
  {
   "cell_type": "markdown",
   "metadata": {},
   "source": [
    "# I)"
   ]
  },
  {
   "cell_type": "code",
   "execution_count": 72,
   "metadata": {},
   "outputs": [
    {
     "name": "stdout",
     "output_type": "stream",
     "text": [
      "Corr [[ 1.   -0.11]\n",
      " [-0.11  1.  ]]\n"
     ]
    }
   ],
   "source": [
    "print('Corr' , np.round(np.corrcoef(X7[229], X7[600]), 2))\n",
    "# Se esta estiver marcada como errado, mandar vir com o  professor\n",
    "#I) [0,0,1,0]"
   ]
  },
  {
   "cell_type": "markdown",
   "metadata": {},
   "source": [
    "# J)"
   ]
  },
  {
   "cell_type": "code",
   "execution_count": 74,
   "metadata": {},
   "outputs": [
    {
     "name": "stdout",
     "output_type": "stream",
     "text": [
      "7\n",
      "Erro quadratico médio 29.0\n"
     ]
    }
   ],
   "source": [
    "x7 = X7[:,177-1]\n",
    "\n",
    "v = v/np.sum(v)\n",
    "vn = np.cumsum(v)\n",
    "\n",
    "print(np.sum(vn<=0.53))\n",
    "Vi = W[:,:np.sum(vn<=0.53)]\n",
    "xr = np.dot(Vi, np.dot(Vi.T, x7))\n",
    "\n",
    "print('Erro quadratico médio', np.round(mean_absolute_error(x7,xr)))\n",
    "#J) [1,0,0,0]"
   ]
  },
  {
   "cell_type": "code",
   "execution_count": 114,
   "metadata": {},
   "outputs": [
    {
     "name": "stdout",
     "output_type": "stream",
     "text": [
      "[0,1,0,0]\n",
      ",[1,0,0,0]\n",
      ",[0,1,0,0]\n",
      ",[0,0,1,0]\n",
      ",[0,0,0,1]\n",
      ",[0,0,0,1]\n",
      ",[1,0,0,0]\n",
      ",[0,1,0,0]\n",
      ",[0,0,1,0]\n",
      ",[1,0,0,0]\n"
     ]
    }
   ],
   "source": [
    "string = '''#A) [0,1,0,0]\n",
    "#B) [1,0,0,0]\n",
    "#C) [0,1,0,0]\n",
    "#D) [0,0,1,0]\n",
    "#E) [0,0,0,1]\n",
    "#F) [0,0,0,1]\n",
    "#G) [1,0,0,0]\n",
    "#F) [0,1,0,0]\n",
    "#I) [0,0,1,0]\n",
    "#J) [1,0,0,0]\n",
    "'''\n",
    "\n",
    "import re\n",
    "string = re.sub('#[A-Z]\\) ', ',',string)\n",
    "string = string[1:]\n",
    "\n",
    "import pickle, numpy as np\n",
    "dictionary = pickle.load(open('A45415_Ficha3_Respostas.p', 'rb'))\n",
    "print(string)\n"
   ]
  },
  {
   "cell_type": "code",
   "execution_count": 111,
   "metadata": {},
   "outputs": [
    {
     "name": "stdout",
     "output_type": "stream",
     "text": [
      "0 [0 1 0 0]\n",
      "1 [1 0 0 0]\n",
      "2 [0 1 0 0]\n",
      "3 [0 0 1 0]\n",
      "4 [0 0 0 1]\n",
      "5 [0 0 0 1]\n",
      "6 [1 0 0 0]\n",
      "7 [0 1 0 0]\n",
      "8 [0 0 1 0]\n",
      "9 [1 0 0 0]\n"
     ]
    }
   ],
   "source": [
    "respostas = np.array(([0,1,0,0], [1,0,0,0], [0,1,0,0], [0,0,1,0], [0,0,0,1], [0,0,0,1], [1,0,0,0], [0,1,0,0], [0,0,1,0], [1,0,0,0]))\n",
    "\n",
    "for index, resposta in enumerate(respostas):\n",
    "    print(index, resposta)\n",
    "    dictionary['Q001'][index] = resposta\n",
    "\n",
    "pickle.dump(dictionary, open('A45415_Ficha3_Respostas.p','wb'))"
   ]
  },
  {
   "cell_type": "code",
   "execution_count": null,
   "metadata": {},
   "outputs": [],
   "source": []
  }
 ],
 "metadata": {
  "kernelspec": {
   "display_name": "Python 3",
   "language": "python",
   "name": "python3"
  },
  "language_info": {
   "codemirror_mode": {
    "name": "ipython",
    "version": 3
   },
   "file_extension": ".py",
   "mimetype": "text/x-python",
   "name": "python",
   "nbconvert_exporter": "python",
   "pygments_lexer": "ipython3",
   "version": "3.7.6"
  }
 },
 "nbformat": 4,
 "nbformat_minor": 4
}
