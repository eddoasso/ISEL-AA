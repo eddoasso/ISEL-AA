{
 "cells": [
  {
   "cell_type": "code",
   "execution_count": 1,
   "metadata": {},
   "outputs": [],
   "source": [
    "import numpy as np\n",
    "import pickle"
   ]
  },
  {
   "cell_type": "markdown",
   "metadata": {},
   "source": [
    "### EX1"
   ]
  },
  {
   "cell_type": "code",
   "execution_count": 2,
   "metadata": {},
   "outputs": [],
   "source": [
    "X0 = np.array([[-4,-6,-4,-3],[-2,1,0,1,]])\n",
    "X1 = np.array([[5,4,4,6],[2,2,1,-1]])"
   ]
  },
  {
   "cell_type": "code",
   "execution_count": 3,
   "metadata": {},
   "outputs": [
    {
     "name": "stdout",
     "output_type": "stream",
     "text": [
      "-20.19\n",
      "4.85\n",
      "4.85\n"
     ]
    }
   ],
   "source": [
    "avgX0 = np.mean(X0, axis=1)\n",
    "avgX1 = np.mean(X1, axis=1)\n",
    "print(round(np.dot(avgX0, avgX1), 2)) # V\n",
    "print(round(np.sqrt(np.dot(avgX1, avgX1)),2)) # F\n",
    "print(round(np.linalg.norm(avgX1), 2))\n",
    "# F\n",
    "# F\n",
    "#A) [1,0,0,0]"
   ]
  },
  {
   "cell_type": "code",
   "execution_count": 4,
   "metadata": {},
   "outputs": [
    {
     "name": "stdout",
     "output_type": "stream",
     "text": [
      "[[77 -1]\n",
      " [-1  6]]\n",
      "[[ 0.91666667 -1.        ]\n",
      " [-1.          2.        ]]\n"
     ]
    }
   ],
   "source": [
    "covX0 = np.cov(X0)\n",
    "covX1 = np.cov(X1)\n",
    "\n",
    "print(np.dot(X0, X0.T)) #V\n",
    "print(covX1) # F\n",
    "# F\n",
    "# F\n",
    "#B) [1,0,0,0]"
   ]
  },
  {
   "cell_type": "code",
   "execution_count": 5,
   "metadata": {},
   "outputs": [
    {
     "name": "stdout",
     "output_type": "stream",
     "text": [
      "[-6.73  1.42]\n",
      "[7.19 0.42]\n"
     ]
    }
   ],
   "source": [
    "print(np.round(np.dot(covX0, avgX0),2)) # V\n",
    "print(np.round(np.dot(covX0, avgX1),2)) # V\n",
    "# V\n",
    "# F\n",
    "# C) [0,0,1,0]"
   ]
  },
  {
   "cell_type": "markdown",
   "metadata": {},
   "source": [
    "## EX2 "
   ]
  },
  {
   "cell_type": "code",
   "execution_count": 6,
   "metadata": {},
   "outputs": [
    {
     "name": "stdout",
     "output_type": "stream",
     "text": [
      "[[ 7.80033445 -8.94562166]\n",
      " [-8.94562166 12.14429874]]\n",
      "[-14.3259861   19.73640974]\n"
     ]
    },
    {
     "ename": "ValueError",
     "evalue": "shapes (2,2) and (10,2) not aligned: 2 (dim 1) != 10 (dim 0)",
     "output_type": "error",
     "traceback": [
      "\u001b[1;31m---------------------------------------------------------------------------\u001b[0m",
      "\u001b[1;31mValueError\u001b[0m                                Traceback (most recent call last)",
      "\u001b[1;32m<ipython-input-6-2d158aedf3ef>\u001b[0m in \u001b[0;36m<module>\u001b[1;34m\u001b[0m\n\u001b[0;32m     16\u001b[0m \u001b[0mA\u001b[0m\u001b[1;33m=\u001b[0m\u001b[0mnp\u001b[0m\u001b[1;33m.\u001b[0m\u001b[0marray\u001b[0m\u001b[1;33m(\u001b[0m\u001b[1;33m[\u001b[0m\u001b[1;33m[\u001b[0m\u001b[1;36m0.71\u001b[0m\u001b[1;33m,\u001b[0m\u001b[1;33m-\u001b[0m\u001b[1;36m3.55\u001b[0m\u001b[1;33m]\u001b[0m\u001b[1;33m,\u001b[0m\u001b[1;33m[\u001b[0m\u001b[1;36m0.71\u001b[0m\u001b[1;33m,\u001b[0m\u001b[1;36m3.55\u001b[0m\u001b[1;33m]\u001b[0m\u001b[1;33m]\u001b[0m\u001b[1;33m)\u001b[0m\u001b[1;33m\u001b[0m\u001b[1;33m\u001b[0m\u001b[0m\n\u001b[0;32m     17\u001b[0m \u001b[0mm\u001b[0m\u001b[1;33m=\u001b[0m\u001b[0mnp\u001b[0m\u001b[1;33m.\u001b[0m\u001b[0marray\u001b[0m\u001b[1;33m(\u001b[0m\u001b[1;33m[\u001b[0m\u001b[1;33m-\u001b[0m\u001b[1;36m4\u001b[0m\u001b[1;33m,\u001b[0m \u001b[1;33m-\u001b[0m\u001b[1;36m5\u001b[0m\u001b[1;33m]\u001b[0m\u001b[1;33m)\u001b[0m\u001b[1;33m\u001b[0m\u001b[1;33m\u001b[0m\u001b[0m\n\u001b[1;32m---> 18\u001b[1;33m \u001b[0mtemp\u001b[0m \u001b[1;33m=\u001b[0m \u001b[0mnp\u001b[0m\u001b[1;33m.\u001b[0m\u001b[0mdot\u001b[0m\u001b[1;33m(\u001b[0m\u001b[0mA\u001b[0m\u001b[1;33m.\u001b[0m\u001b[0mT\u001b[0m\u001b[1;33m,\u001b[0m\u001b[0mX\u001b[0m\u001b[1;33m.\u001b[0m\u001b[0mT\u001b[0m\u001b[1;33m)\u001b[0m\u001b[1;33m\u001b[0m\u001b[1;33m\u001b[0m\u001b[0m\n\u001b[0m\u001b[0;32m     19\u001b[0m \u001b[0mY\u001b[0m\u001b[1;33m=\u001b[0m\u001b[1;33m(\u001b[0m\u001b[0mtemp\u001b[0m\u001b[1;33m.\u001b[0m\u001b[0mT\u001b[0m\u001b[1;33m+\u001b[0m\u001b[0mm\u001b[0m\u001b[1;33m)\u001b[0m\u001b[1;33m.\u001b[0m\u001b[0mT\u001b[0m\u001b[1;33m\u001b[0m\u001b[1;33m\u001b[0m\u001b[0m\n\u001b[0;32m     20\u001b[0m \u001b[1;33m\u001b[0m\u001b[0m\n",
      "\u001b[1;32m<__array_function__ internals>\u001b[0m in \u001b[0;36mdot\u001b[1;34m(*args, **kwargs)\u001b[0m\n",
      "\u001b[1;31mValueError\u001b[0m: shapes (2,2) and (10,2) not aligned: 2 (dim 1) != 10 (dim 0)"
     ]
    }
   ],
   "source": [
    "import numpy as np\n",
    "from scipy.linalg import sqrtm\n",
    "\n",
    "\n",
    "N = 10\n",
    "X=np.random.randn(2,N)\n",
    "\n",
    "\n",
    "A=np.array([[0.71,-3.55],[0.71,3.55]])\n",
    "m=np.array([-4, -5])\n",
    "Y=np.dot(A,(X.T-m).T)\n",
    "\n",
    "print(np.cov(Y))\n",
    "print(np.mean(Y , axis = 1))\n",
    "\n",
    "A=np.array([[0.71,-3.55],[0.71,3.55]])\n",
    "m=np.array([-4, -5])\n",
    "temp = np.dot(A.T,X.T)\n",
    "Y=(temp.T+m).T\n",
    "\n",
    "print(np.cov(Y))\n",
    "\n",
    "# A) [0,0,0,1]"
   ]
  },
  {
   "cell_type": "code",
   "execution_count": null,
   "metadata": {
    "scrolled": true
   },
   "outputs": [],
   "source": [
    "print(np.cov(X))\n",
    "\n",
    "Cx=np.cov(X,ddof=1)\n",
    "\n",
    "print(np.sum(Cx!= np.cov(X)))\n",
    "\n",
    "# B) [1,0,0,0]"
   ]
  },
  {
   "cell_type": "markdown",
   "metadata": {},
   "source": [
    "## Ex 3"
   ]
  },
  {
   "cell_type": "code",
   "execution_count": null,
   "metadata": {},
   "outputs": [],
   "source": [
    "raw = pickle.load(open('A45415_Q003_data.p','rb'))\n",
    "print(type(raw))\n",
    "print(raw.keys())\n",
    "\n",
    "\n",
    "X = raw['dados']\n",
    "y = raw['trueClass']\n",
    "\n",
    "print(X.shape)\n",
    "print(y.shape)"
   ]
  },
  {
   "cell_type": "code",
   "execution_count": null,
   "metadata": {},
   "outputs": [],
   "source": [
    "mean = []\n",
    "cov = []\n",
    "for i in range(5):\n",
    "    mean.append(np.mean(X[:,y==i],axis=1))\n",
    "    cov.append(np.cov(X[:,y==i]))"
   ]
  },
  {
   "cell_type": "code",
   "execution_count": null,
   "metadata": {},
   "outputs": [],
   "source": [
    "prod1 = np.linalg.det(np.dot(cov[0],cov[1]))\n",
    "prod1 = np.round(prod1, 2)\n",
    "print(prod1) # v\n",
    "print(np.inner(mean[2], mean[4])) # f\n",
    "print(np.dot(cov[0], mean[4])) # f\n",
    "print(np.dot(np.dot(mean[0].T, cov[2]), mean[3])) # f\n",
    "\n",
    "# A) [1,0,0,0]"
   ]
  },
  {
   "cell_type": "code",
   "execution_count": null,
   "metadata": {},
   "outputs": [],
   "source": [
    "print(np.round(mean[4],2))\n",
    "print(np.round(mean[3],2)) # V\n",
    "\n",
    "# B) [0,1,0,0]"
   ]
  },
  {
   "cell_type": "code",
   "execution_count": null,
   "metadata": {},
   "outputs": [],
   "source": [
    "print(round(len(X[:,y==0][1])/len(X[1]),2)) # V\n",
    "print(np.round(cov[2], 2)) # V\n",
    "\n",
    "# C) [0,0,1,0]"
   ]
  },
  {
   "cell_type": "code",
   "execution_count": null,
   "metadata": {},
   "outputs": [],
   "source": [
    "print(np.round(np.mean(X, axis=1), 2))\n",
    "print(np.round(np.cov(X) ,2))\n",
    "\n",
    "# D) [0,1,0,0]"
   ]
  },
  {
   "cell_type": "markdown",
   "metadata": {},
   "source": [
    "## Respostas"
   ]
  },
  {
   "cell_type": "code",
   "execution_count": null,
   "metadata": {},
   "outputs": [],
   "source": [
    "import pickle, numpy as np\n",
    "dictionary = pickle.load(open('A45415_Ficha1_Respostas.p', 'rb'))"
   ]
  },
  {
   "cell_type": "code",
   "execution_count": null,
   "metadata": {},
   "outputs": [],
   "source": [
    "dictionary['Q001'][0,:] = np.array([1,0,0,0])\n",
    "dictionary['Q001'][1,:] = np.array([1,0,0,0])\n",
    "dictionary['Q001'][2,:] = np.array([0,0,1,0])\n",
    "\n",
    "dictionary['Q002'][0,:] = np.array([0,0,0,1])\n",
    "dictionary['Q002'][1,:] = np.array([1,0,0,0])\n",
    "\n",
    "dictionary['Q003'][0,:] = np.array([1,0,0,0])\n",
    "dictionary['Q003'][1,:] = np.array([0,1,0,0])\n",
    "dictionary['Q003'][2,:] = np.array([0,0,1,0])\n",
    "dictionary['Q003'][3,:] = np.array([0,1,0,0])"
   ]
  },
  {
   "cell_type": "code",
   "execution_count": null,
   "metadata": {},
   "outputs": [],
   "source": [
    "dictionary"
   ]
  },
  {
   "cell_type": "code",
   "execution_count": null,
   "metadata": {},
   "outputs": [],
   "source": [
    "pickle.dump(dictionary, open('A45415_Ficha1_Respostas.p','wb'))"
   ]
  },
  {
   "cell_type": "code",
   "execution_count": null,
   "metadata": {},
   "outputs": [],
   "source": []
  }
 ],
 "metadata": {
  "kernelspec": {
   "display_name": "Python 3",
   "language": "python",
   "name": "python3"
  },
  "language_info": {
   "codemirror_mode": {
    "name": "ipython",
    "version": 3
   },
   "file_extension": ".py",
   "mimetype": "text/x-python",
   "name": "python",
   "nbconvert_exporter": "python",
   "pygments_lexer": "ipython3",
   "version": "3.8.5"
  }
 },
 "nbformat": 4,
 "nbformat_minor": 4
}
