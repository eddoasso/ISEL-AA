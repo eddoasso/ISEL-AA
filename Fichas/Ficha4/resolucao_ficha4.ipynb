{
 "cells": [
  {
   "cell_type": "code",
   "execution_count": 1,
   "metadata": {},
   "outputs": [],
   "source": [
    "import matplotlib.pyplot as plt\n",
    "import numpy as np\n",
    "import pickle\n",
    "from sklearn.metrics import confusion_matrix , mean_absolute_error , mean_squared_error\n",
    "from sklearn.preprocessing import PolynomialFeatures\n",
    "from sklearn.linear_model import LinearRegression, Ridge, Lasso\n",
    "import sklearn.datasets as DT\n",
    "import scipy.linalg as la"
   ]
  },
  {
   "cell_type": "markdown",
   "metadata": {},
   "source": [
    "# Ex1"
   ]
  },
  {
   "cell_type": "code",
   "execution_count": 2,
   "metadata": {},
   "outputs": [
    {
     "name": "stdout",
     "output_type": "stream",
     "text": [
      "dict_keys(['y', 'X'])\n",
      "(2, 2124)\n",
      "(2124,)\n"
     ]
    }
   ],
   "source": [
    "D = pickle.load(open('A45415_Q001_data.p', 'rb'))\n",
    "print(D.keys())\n",
    "\n",
    "\n",
    "x = D['X']*1.\n",
    "y = D['y']\n",
    "print(x.shape)\n",
    "print(y.shape)\n",
    "\n",
    "X1 = np.vstack((np.ones(2124),x))\n",
    "yb = (y > 0)*2-1"
   ]
  },
  {
   "cell_type": "markdown",
   "metadata": {},
   "source": [
    "## A)\n",
    "\n",
    "- [1,0,0,0]"
   ]
  },
  {
   "cell_type": "code",
   "execution_count": 3,
   "metadata": {},
   "outputs": [
    {
     "name": "stdout",
     "output_type": "stream",
     "text": [
      "coefs [-0.001  0.292  0.041]\n",
      "MAE 0.527\n"
     ]
    }
   ],
   "source": [
    "Rx = np.dot(X1, X1.T)\n",
    "ryx=np.dot(X1,yb.T)\n",
    "w=np.dot(la.pinv(Rx),ryx)\n",
    "\n",
    "print('coefs' , np.round(w, 3))\n",
    "\n",
    "ye = np.dot(w.T,X1)\n",
    "yeb=(ye>0)*2-1\n",
    "\n",
    "MC = confusion_matrix(yb,yeb)\n",
    "print('MAE', np.round(mean_absolute_error(y,ye), 3))"
   ]
  },
  {
   "cell_type": "markdown",
   "metadata": {},
   "source": [
    "## B)\n",
    "- [0,0,1,0]"
   ]
  },
  {
   "cell_type": "code",
   "execution_count": 4,
   "metadata": {
    "scrolled": true
   },
   "outputs": [
    {
     "name": "stdout",
     "output_type": "stream",
     "text": [
      "[[ 557  297]\n",
      " [ 166 1104]] \n",
      "\n",
      "falsos alarmes 0.348\n",
      "precision  0.788\n",
      "acertos 1661\n"
     ]
    }
   ],
   "source": [
    "x1 = -np.ones((2,2124))\n",
    "wx = [0.00, 0.53, 0.85]\n",
    "\n",
    "for i in range(2):\n",
    "    for j in range(2124):\n",
    "        x1[i,j] = wx[0]+wx[1]*x[0,j]+wx[2]*x[1,j]\n",
    "\n",
    "\n",
    "Y1 = -np.ones((2,2124))\n",
    "\n",
    "for i in range(2):\n",
    "\tY1[i,y==i] = 1\n",
    "\n",
    "#estimação a partir de um polinomio\n",
    "values = np.vstack((np.zeros(x1.shape[1]),x1))\n",
    "Rx = np.dot(values,values.T)\n",
    "rxy = np.dot(values,Y1.T)\n",
    "w = np.dot(la.pinv(Rx),rxy)\n",
    "\n",
    "\n",
    "Y1e = np.dot(w.T,values)#Y1 estimado\n",
    "y1e = np.argmax(Y1e,axis=0)\n",
    "\n",
    "MC = confusion_matrix(y,y1e)\n",
    "\n",
    "print(MC,'\\n')\n",
    "\n",
    "TN = MC[0][0]\n",
    "FN = MC[1][0]\n",
    "TP = MC[1][1]\n",
    "FP = MC[0][1]\n",
    "\n",
    "print('falsos alarmes', round( FP/(FP+TN), 3))\n",
    "print('precision ' , round(TP/(TP+FP),3))\n",
    "print('acertos' , TN + TP)\n"
   ]
  },
  {
   "cell_type": "markdown",
   "metadata": {},
   "source": [
    "## C) \n",
    "- [0,0,0,1]"
   ]
  },
  {
   "cell_type": "code",
   "execution_count": 5,
   "metadata": {},
   "outputs": [
    {
     "name": "stdout",
     "output_type": "stream",
     "text": [
      "0.949\n",
      "[[ 647  207]\n",
      " [  65 1205]]\n"
     ]
    }
   ],
   "source": [
    "w = np.array([0.00, 0.79, 0.61])\n",
    "yb = (y > 0)*2-1\n",
    "y1e = np.dot(w.T,X1)\n",
    "\n",
    "yeb = (y1e>0)*2-1\n",
    "\n",
    "MC = confusion_matrix(yb,yeb)\n",
    "\n",
    "recall = MC[1][1] / (MC[1][1] + MC[1][0])\n",
    "print(round(recall,3))\n",
    "print(MC)\n"
   ]
  },
  {
   "cell_type": "markdown",
   "metadata": {},
   "source": [
    "# 2)"
   ]
  },
  {
   "cell_type": "code",
   "execution_count": 6,
   "metadata": {},
   "outputs": [
    {
     "name": "stdout",
     "output_type": "stream",
     "text": [
      "dict_keys(['x', 'y', 'folds'])\n",
      "(162,) (162,) (162,)\n"
     ]
    }
   ],
   "source": [
    "D = pickle.load(open('A45415_Q002_data.p', 'rb'))\n",
    "print(D.keys())\n",
    "x=D['x']*1.\n",
    "y=D['y']\n",
    "fd=D['folds']\n",
    "print(x.shape, y.shape, fd.shape)\n",
    "X1 = x[fd==0];X1 = X1[:,np.newaxis]\n",
    "X2 = x[fd==1];X2 = X2[:,np.newaxis]\n",
    "y1 = y[fd==0];y1 = y1[:,np.newaxis]\n",
    "y2 = y[fd==1];y2 = y2[:,np.newaxis]"
   ]
  },
  {
   "cell_type": "markdown",
   "metadata": {},
   "source": [
    "## A)\n",
    "- [0,0,0,1]"
   ]
  },
  {
   "cell_type": "code",
   "execution_count": 7,
   "metadata": {
    "scrolled": true
   },
   "outputs": [
    {
     "name": "stdout",
     "output_type": "stream",
     "text": [
      "[-2.33567022]\n",
      "-667.1478112280153\n"
     ]
    }
   ],
   "source": [
    "trainFold = X1\n",
    "testFold = X2\n",
    "\n",
    "poly=PolynomialFeatures(3,include_bias=False).fit(trainFold)\n",
    "X1a=poly.transform(trainFold)\n",
    "X2a=poly.transform(testFold)\n",
    "rl=LinearRegression().fit(X1a,y1)\n",
    "# i\n",
    "print(rl.intercept_)\n",
    "# ii\n",
    "y2e =rl.predict(X2a)\n",
    "print(rl.score(X2a, y2))\n"
   ]
  },
  {
   "cell_type": "markdown",
   "metadata": {},
   "source": [
    "## B)\n",
    "- [0,1,0,0]"
   ]
  },
  {
   "cell_type": "code",
   "execution_count": 8,
   "metadata": {},
   "outputs": [
    {
     "name": "stdout",
     "output_type": "stream",
     "text": [
      "243.78856556750642\n",
      "0.03\n"
     ]
    }
   ],
   "source": [
    "trainFold = X1\n",
    "testFold = X2\n",
    "\n",
    "poly=PolynomialFeatures(4,include_bias=False).fit(X1)\n",
    "X1a=poly.transform(X1)\n",
    "X2a=poly.transform(X2)\n",
    "\n",
    "rl=LinearRegression().fit(X1a,y1) #treinoooo\n",
    "\n",
    "y2e =rl.predict(X2a) #teste\n",
    "print(mean_squared_error(y2,y2e))\n",
    "\n",
    "\n",
    "y1e =rl.predict(X1a) #treino\n",
    "print(round(mean_squared_error(y1,y1e),2))"
   ]
  },
  {
   "cell_type": "markdown",
   "metadata": {},
   "source": [
    "## C)\n",
    "- [0,0,0,1]"
   ]
  },
  {
   "cell_type": "code",
   "execution_count": 9,
   "metadata": {},
   "outputs": [
    {
     "name": "stdout",
     "output_type": "stream",
     "text": [
      "0.0008865256513370667\n",
      "0.7641831088278017\n",
      "-0.48604938226930794\n"
     ]
    }
   ],
   "source": [
    "Xc = x[:81]\n",
    "Xc = Xc[:,np.newaxis]\n",
    "yc = y[:81] \n",
    "yc = yc[:,np.newaxis]\n",
    "poly=PolynomialFeatures(4,include_bias=False).fit(Xc)\n",
    "lr_a=LinearRegression().fit(Xc,yc)\n",
    "print(lr_a.score(Xc,yc))\n",
    "\n",
    "poly=PolynomialFeatures(4,include_bias=False).fit(X1)\n",
    "lr_b=LinearRegression().fit(X1,y1)\n",
    "print(lr_b.score(X1,y1))\n",
    "\n",
    "w = lr_b.coef_\n",
    "print(w.max())"
   ]
  },
  {
   "cell_type": "markdown",
   "metadata": {},
   "source": [
    "# 3)"
   ]
  },
  {
   "cell_type": "code",
   "execution_count": 10,
   "metadata": {},
   "outputs": [],
   "source": [
    "D = DT.load_diabetes()\n",
    "\n",
    "X = D.data\n",
    "Y = D.target\n",
    "\n",
    "x_treino = X[:254]\n",
    "y_treino = Y[:254]\n",
    "\n",
    "x_teste = X[254:]\n",
    "y_teste = Y[254:]"
   ]
  },
  {
   "cell_type": "markdown",
   "metadata": {},
   "source": [
    "## A)\n",
    "- [0,0,1,0]"
   ]
  },
  {
   "cell_type": "code",
   "execution_count": 11,
   "metadata": {},
   "outputs": [
    {
     "name": "stdout",
     "output_type": "stream",
     "text": [
      "R2 (treino: 0.5246288303594318\n",
      "R2 (teste) : 0.5330047259317208\n",
      "MEAN SQUARED ERROR 2890.32\n"
     ]
    }
   ],
   "source": [
    "poly = PolynomialFeatures(degree = 3, include_bias = False).fit(x_treino)\n",
    "X1a = poly.transform(x_treino)\n",
    "X2a = poly.transform(x_teste)\n",
    "\n",
    "\n",
    "rl = Lasso(random_state=42, alpha=0.01).fit(X1a,y_treino)\n",
    "\n",
    "print('R2 (treino:',rl.score(X1a,y_treino))\n",
    "print('R2 (teste) :',rl.score(X2a,y_teste))\n",
    "y1e=rl.predict(X1a)\n",
    "y2e=rl.predict(X2a)\n",
    "print(\"MEAN SQUARED ERROR\", np.round(mean_squared_error(y_teste,y2e),2))\n",
    "\n",
    "w2 = rl.coef_ #ajuda no C"
   ]
  },
  {
   "cell_type": "markdown",
   "metadata": {},
   "source": [
    "## B)\n",
    "- [0,0,0,1]"
   ]
  },
  {
   "cell_type": "code",
   "execution_count": 12,
   "metadata": {},
   "outputs": [
    {
     "name": "stdout",
     "output_type": "stream",
     "text": [
      "0.3947404649086055\n",
      "3746.0692184207287\n"
     ]
    }
   ],
   "source": [
    "poly = PolynomialFeatures(degree = 2, include_bias = False).fit(x_treino)\n",
    "X1a = poly.transform(x_treino)\n",
    "X2a = poly.transform(x_teste)\n",
    "\n",
    "rl = LinearRegression().fit(X1a,y_treino)\n",
    "\n",
    "print(rl.score(X2a,y_teste))\n",
    "ytestPred = rl.predict(X2a)\n",
    "print(mean_squared_error(y_teste,ytestPred))"
   ]
  },
  {
   "cell_type": "markdown",
   "metadata": {},
   "source": [
    "## C)\n",
    "- [1,0,0,0]"
   ]
  },
  {
   "cell_type": "code",
   "execution_count": 13,
   "metadata": {},
   "outputs": [
    {
     "name": "stdout",
     "output_type": "stream",
     "text": [
      "(65,)\n",
      "(285,)\n"
     ]
    }
   ],
   "source": [
    "w = rl.coef_\n",
    "print(w.shape) #Alinea A 0001\n",
    "print(w2.shape)"
   ]
  },
  {
   "cell_type": "markdown",
   "metadata": {},
   "source": [
    "# Out"
   ]
  },
  {
   "cell_type": "code",
   "execution_count": 24,
   "metadata": {},
   "outputs": [],
   "source": [
    "dictionary = pickle.load(open('A45415_Ficha4_Respostas.p', 'rb'))\n",
    "dictionary.keys()\n",
    "\n",
    "dictionary['Q001'][0,:] = np.array([1,0,0,0])\n",
    "dictionary['Q001'][1,:] = np.array([0,0,1,0])\n",
    "dictionary['Q001'][2,:] = np.array([0,0,0,1])\n",
    "\n",
    "dictionary['Q002'][0,:] = np.array([0,0,0,1])\n",
    "dictionary['Q002'][1,:] = np.array([0,1,0,0])\n",
    "dictionary['Q002'][2,:] = np.array([0,0,0,1])\n",
    "\n",
    "dictionary['Q003'][0,:] = np.array([0,0,1,0])\n",
    "dictionary['Q003'][1,:] = np.array([0,0,0,1])\n",
    "dictionary['Q003'][2,:] = np.array([1,0,0,0])\n",
    "\n",
    "pickle.dump(dictionary, open('A45415_Ficha4_Respostas.p', 'wb'))"
   ]
  },
  {
   "cell_type": "code",
   "execution_count": 25,
   "metadata": {},
   "outputs": [
    {
     "data": {
      "text/plain": [
       "array([[1., 0., 0., 0.],\n",
       "       [0., 0., 1., 0.],\n",
       "       [0., 0., 0., 1.]])"
      ]
     },
     "execution_count": 25,
     "metadata": {},
     "output_type": "execute_result"
    }
   ],
   "source": [
    "dictionary = pickle.load(open('A45415_Ficha4_Respostas.p', 'rb'))\n",
    "dictionary['Q001']"
   ]
  },
  {
   "cell_type": "code",
   "execution_count": null,
   "metadata": {},
   "outputs": [],
   "source": []
  }
 ],
 "metadata": {
  "kernelspec": {
   "display_name": "Python 3",
   "language": "python",
   "name": "python3"
  },
  "language_info": {
   "codemirror_mode": {
    "name": "ipython",
    "version": 3
   },
   "file_extension": ".py",
   "mimetype": "text/x-python",
   "name": "python",
   "nbconvert_exporter": "python",
   "pygments_lexer": "ipython3",
   "version": "3.8.5"
  }
 },
 "nbformat": 4,
 "nbformat_minor": 4
}
