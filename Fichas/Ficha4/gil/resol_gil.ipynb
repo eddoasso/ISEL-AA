{
 "cells": [
  {
   "cell_type": "code",
   "execution_count": 1,
   "metadata": {},
   "outputs": [],
   "source": [
    "import pickle\n",
    "import numpy as np\n",
    "import scipy.linalg as la\n",
    "import matplotlib.pyplot as plt\n",
    "from sklearn.linear_model import LinearRegression\n",
    "from sklearn.metrics import mean_absolute_error\n",
    "from sklearn.metrics import mean_squared_error\n",
    "import sklearn.datasets as DT\n",
    "from sklearn.model_selection import train_test_split\n",
    "from sklearn.preprocessing import PolynomialFeatures\n",
    "from sklearn.linear_model import Ridge,Lasso\n",
    "from sklearn.metrics import confusion_matrix"
   ]
  },
  {
   "cell_type": "code",
   "execution_count": 14,
   "metadata": {},
   "outputs": [
    {
     "name": "stdout",
     "output_type": "stream",
     "text": [
      "0.10157359759624857\n",
      "[-8.89988113]\n",
      "[48.8255024]\n",
      "[0.38172748]\n",
      "8.859821163986759e-05\n",
      "0.9611790810259478\n",
      "-1.1639004059924563\n"
     ]
    }
   ],
   "source": [
    "#Exercicio 1\n",
    "\n",
    "D=pickle.load(open('A46296_Q001_data.p','rb'))\n",
    "\n",
    "\n",
    "x=D['x']\n",
    "#print(x.shape)\n",
    "y=D['y']\n",
    "#print(y.shape)\n",
    "fd=D['folds']\n",
    "#print(fd.shape)\n",
    "\n",
    "\n",
    "X1 = x[fd==0]\n",
    "X1 = X1[:,np.newaxis]\n",
    "X2 = x[fd==1]\n",
    "X2 = X2[:,np.newaxis]\n",
    "y1 = y[fd==0]\n",
    "y1 = y1[:,np.newaxis]\n",
    "y2 = y[fd==1]\n",
    "y2 = y2[:,np.newaxis]\n",
    "\n",
    "#alinea a) 0001\n",
    "\n",
    "#X1 - treino\n",
    "#X2 - teste\n",
    "poly=PolynomialFeatures(4,include_bias=False).fit(X1)\n",
    "X1a=poly.transform(X1)\n",
    "X2a=poly.transform(X2)\n",
    "rl=LinearRegression().fit(X1a,y1)\n",
    "# i\n",
    "y2e =rl.predict(X1a)\n",
    "print(mean_absolute_error(y1,y2e))\n",
    "# ii\n",
    "print(rl.intercept_)\n",
    "\n",
    "#alinea b) 0010\n",
    "\n",
    "#X2 - treino\n",
    "#X1 - teste\n",
    "\n",
    "poly=PolynomialFeatures(3,include_bias=False).fit(X2)\n",
    "X1a=poly.transform(X1)\n",
    "X2a=poly.transform(X2)\n",
    "\n",
    "rl=LinearRegression().fit(X2a,y2) #treinoooo\n",
    "\n",
    "y1e =rl.predict(X1a) #teste\n",
    "print(np.sum((abs(y1-y1e))/len(y1),axis=0))\n",
    "\n",
    "\n",
    "y2e =rl.predict(X2a) #treino\n",
    "print(np.sum((abs(y2-y2e))/len(y2),axis=0))\n",
    "\n",
    "\n",
    "#alinea c) 0010\n",
    "\n",
    "Xc = x[:126]\n",
    "Xc = Xc[:,np.newaxis]\n",
    "yc = y[:126] \n",
    "yc = yc[:,np.newaxis]\n",
    "poly=PolynomialFeatures(4,include_bias=False).fit(Xc)\n",
    "lr_a=LinearRegression().fit(Xc,yc)\n",
    "print(lr_a.score(Xc,yc))\n",
    "\n",
    "poly=PolynomialFeatures(4,include_bias=False).fit(X1)\n",
    "lr_b=LinearRegression().fit(X1,y1)\n",
    "print(lr_b.score(X1,y1))\n",
    "\n",
    "w = lr_b.coef_\n",
    "print(w.max())\n"
   ]
  },
  {
   "cell_type": "code",
   "execution_count": 117,
   "metadata": {},
   "outputs": [
    {
     "name": "stdout",
     "output_type": "stream",
     "text": [
      "[-318.26925335  139.97079677  -20.06765782    0.94369298]\n",
      "0.3817274853243355\n"
     ]
    }
   ],
   "source": []
  },
  {
   "cell_type": "code",
   "execution_count": 13,
   "metadata": {},
   "outputs": [
    {
     "name": "stdout",
     "output_type": "stream",
     "text": [
      "0.42159515481276544\n",
      "3570.2784566951\n",
      "(65,)\n",
      "0.52\n",
      "10\n"
     ]
    }
   ],
   "source": [
    "#Exercicio 2\n",
    "\n",
    "D = DT.load_diabetes()\n",
    "\n",
    "\n",
    "X = D.data\n",
    "Y = D.target\n",
    "\n",
    "x_treino = X[:219]\n",
    "y_treino = Y[:219]\n",
    "\n",
    "x_teste = X[219:]\n",
    "y_teste = Y[219:]\n",
    "\n",
    "\n",
    "#Alinea C 0100\n",
    "poly = PolynomialFeatures(degree = 2, include_bias = False).fit(x_treino)\n",
    "X1a = poly.transform(x_treino)\n",
    "X2a = poly.transform(x_teste)\n",
    "\n",
    "\n",
    "\n",
    "rl = LinearRegression().fit(X1a,y_treino)\n",
    "\n",
    "print(rl.score(X2a,y_teste))\n",
    "ytestPred = rl.predict(X2a)\n",
    "print(mean_squared_error(y_teste,ytestPred))\n",
    "\n",
    "w = rl.coef_\n",
    "print(w.shape) #Alinea A 0001\n",
    "\n",
    "\n",
    "#Alinea B 1000\n",
    "\n",
    "poly = PolynomialFeatures(degree = 4, include_bias = False).fit(x_treino)\n",
    "X1a = poly.transform(x_treino)\n",
    "X2a = poly.transform(x_teste)\n",
    "\n",
    "\n",
    "rl = Lasso(random_state = 42, alpha=0.01).fit(X1a,y_treino)\n",
    "\n",
    "print(round(rl.score(X1a,y_treino),2))\n",
    "\n",
    "w = rl.coef_\n",
    "\n",
    "print(np.sum(abs(w) >= 253))\n"
   ]
  },
  {
   "cell_type": "code",
   "execution_count": 130,
   "metadata": {},
   "outputs": [
    {
     "name": "stdout",
     "output_type": "stream",
     "text": [
      "[[ 377  171]\n",
      " [ 118 1727]]\n",
      "0.936\n"
     ]
    }
   ],
   "source": [
    "#Exercicio 3\n",
    "\n",
    "#Alinea a) - 1000\n",
    "\n",
    "D = pickle.load(open('A46296_Q003_data.p','rb'))\n",
    "\n",
    "x = D['X']*1.\n",
    "y = D['y']\n",
    "\n",
    "#print(x.shape)\n",
    "\n",
    "\n",
    "X1 = np.vstack((np.ones(2393),x)) #o 2393 é preciso ver a shape do x\n",
    "yb = (y > 0)*2-1\n",
    "\n",
    "\n",
    "w = np.array([0.00,0.29,0.96])\n",
    "y1e = np.dot(w.T, X1)\n",
    "yeb = (y1e > 0)*2-1\n",
    "\n",
    "MC = confusion_matrix(yb,yeb)\n",
    "print(MC)\n",
    "\n",
    "recall = 1727/(1727+118)\n",
    "print(round(recall,3))"
   ]
  },
  {
   "cell_type": "code",
   "execution_count": 132,
   "metadata": {},
   "outputs": [
    {
     "name": "stdout",
     "output_type": "stream",
     "text": [
      "[0.23635187 0.20491407 0.15873401]\n",
      "[[ 379  169]\n",
      " [   0 1845]]\n"
     ]
    }
   ],
   "source": [
    "#Alinea b) - 1000\n",
    "\n",
    "X1 = np.vstack((np.ones(2393),x))\n",
    "yb = (y > 0)*2-1\n",
    "\n",
    "Rx = np.dot(X1, X1.T)\n",
    "ryx=np.dot(X1,yb.T)\n",
    "w=np.dot(la.pinv(Rx),ryx)\n",
    "\n",
    "print(w)\n",
    "\n",
    "\n",
    "\n",
    "ye = np.dot(w.T,X1)\n",
    "yeb=(ye>0)*2-1\n",
    "\n",
    "MC = confusion_matrix(yb,yeb)\n",
    "print(MC)\n",
    "\n"
   ]
  },
  {
   "cell_type": "code",
   "execution_count": 134,
   "metadata": {},
   "outputs": [
    {
     "name": "stdout",
     "output_type": "stream",
     "text": [
      "[[ 332  216]\n",
      " [ 237 1608]]\n",
      "0.872\n"
     ]
    }
   ],
   "source": [
    "#Alinea c) - 1000\n",
    "\n",
    "w = np.array([0.00,0.03,1.00])\n",
    "yb = (y > 0)*2-1\n",
    "y1e = np.dot(w.T,X1)\n",
    "\n",
    "yeb = (y1e>0)*2-1\n",
    "\n",
    "MC = confusion_matrix(yb,yeb)\n",
    "print(MC)\n",
    "\n",
    "recall = 1608/(1608+237)\n",
    "print(round(recall,3))\n"
   ]
  },
  {
   "cell_type": "code",
   "execution_count": 15,
   "metadata": {},
   "outputs": [],
   "source": [
    "Respostas = 'A46296_Ficha4_Respostas.p'\n",
    "R = pickle.load(open(Respostas,'rb'))"
   ]
  },
  {
   "cell_type": "code",
   "execution_count": 16,
   "metadata": {},
   "outputs": [],
   "source": [
    "R['Q001'][0,:]=np.array([0,0,0,1]) \n",
    "R['Q001'][1,:]=np.array([0,0,1,0]) \n",
    "R['Q001'][2,:]=np.array([0,0,1,0]) \n",
    "\n",
    "R['Q002'][0,:]=np.array([0,0,0,1]) \n",
    "R['Q002'][1,:]=np.array([1,0,0,0]) \n",
    "R['Q002'][2,:]=np.array([0,1,0,0]) \n",
    "\n",
    "R['Q003'][0,:]=np.array([1,0,0,0])  \n",
    "R['Q003'][1,:]=np.array([1,0,0,0]) \n",
    "R['Q003'][2,:]=np.array([1,0,0,0])"
   ]
  },
  {
   "cell_type": "code",
   "execution_count": 17,
   "metadata": {},
   "outputs": [],
   "source": [
    "pickle.dump(R,open(Respostas,'wb'))"
   ]
  },
  {
   "cell_type": "code",
   "execution_count": 18,
   "metadata": {},
   "outputs": [
    {
     "data": {
      "text/plain": [
       "{'Q001': array([[0., 0., 0., 1.],\n",
       "        [0., 0., 1., 0.],\n",
       "        [0., 0., 1., 0.]]),\n",
       " 'Q002': array([[0., 0., 0., 1.],\n",
       "        [1., 0., 0., 0.],\n",
       "        [0., 1., 0., 0.]]),\n",
       " 'Q003': array([[1., 0., 0., 0.],\n",
       "        [1., 0., 0., 0.],\n",
       "        [1., 0., 0., 0.]]),\n",
       " 'nome': 'Tiago Miguel Da Silva Gil',\n",
       " 'numero': 'A46296'}"
      ]
     },
     "execution_count": 18,
     "metadata": {},
     "output_type": "execute_result"
    }
   ],
   "source": [
    "R"
   ]
  },
  {
   "cell_type": "code",
   "execution_count": null,
   "metadata": {},
   "outputs": [],
   "source": []
  }
 ],
 "metadata": {
  "kernelspec": {
   "display_name": "Python 3",
   "language": "python",
   "name": "python3"
  },
  "language_info": {
   "codemirror_mode": {
    "name": "ipython",
    "version": 3
   },
   "file_extension": ".py",
   "mimetype": "text/x-python",
   "name": "python",
   "nbconvert_exporter": "python",
   "pygments_lexer": "ipython3",
   "version": "3.8.5"
  }
 },
 "nbformat": 4,
 "nbformat_minor": 4
}
