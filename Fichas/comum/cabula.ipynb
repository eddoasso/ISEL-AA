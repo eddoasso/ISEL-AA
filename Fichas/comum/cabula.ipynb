{
 "cells": [
  {
   "cell_type": "markdown",
   "metadata": {},
   "source": [
    "# Imports comuns"
   ]
  },
  {
   "cell_type": "code",
   "execution_count": 1,
   "metadata": {},
   "outputs": [],
   "source": [
    "import matplotlib.pyplot as plt\n",
    "import numpy as np\n",
    "import pickle\n",
    "from sklearn.metrics import confusion_matrix\n",
    "import scipy.linalg as la\n",
    "import sklearn.datasets as ds\n",
    "import sklearn.preprocessing as pp\n"
   ]
  },
  {
   "cell_type": "markdown",
   "metadata": {},
   "source": [
    "# Load de datasets"
   ]
  },
  {
   "cell_type": "code",
   "execution_count": 74,
   "metadata": {},
   "outputs": [
    {
     "name": "stdout",
     "output_type": "stream",
     "text": [
      "dict_keys(['data', 'target', 'frame', 'target_names', 'DESCR', 'feature_names', 'filename'])\n"
     ]
    }
   ],
   "source": [
    "D = pickle.load(open('../comum/MNISTsmall.p', 'rb'))\n",
    "X = D['X']\n",
    "y = D['trueClass']\n",
    "## OU, depende do caso\n",
    "D = ds.load_iris()\n",
    "X = D.data\n",
    "y = D.target\n",
    "print(D.keys())\n"
   ]
  },
  {
   "cell_type": "markdown",
   "metadata": {},
   "source": [
    "# Isolar uma classe ou parte dela"
   ]
  },
  {
   "cell_type": "code",
   "execution_count": 72,
   "metadata": {},
   "outputs": [
    {
     "name": "stdout",
     "output_type": "stream",
     "text": [
      "(10, 4) (50, 4)\n",
      "(10, 4) uint8\n",
      "(50, 4)\n"
     ]
    }
   ],
   "source": [
    "Xy = X[y==1,:] ### Selecionar todos os valores da classe 1\n",
    "Xy_primeiros_10_linhas = Xy[:10]  \n",
    "Xy_primeiros_10_linhas_b = X[y==1, :10]  \n",
    "print(Xy_primeiros_10_linhas.shape , Xy_primeiros_10_linhas_b.shape)\n",
    "\n",
    "Xy_ultimos_10_linhas = Xy[-10:]\n",
    "Xy_meio_50_linhas = Xy[150:200]\n",
    "\n",
    "Xy_primeiros_10_colunas = Xy[:,:10]\n",
    "Xy_ultimos_10_colunas = Xy[:,-10:]\n",
    "\n",
    "\n",
    "print(Xy_primeiros_10_linhas.shape, Xy_primeiros_50.dtype)\n",
    "print(Xy_primeiros_10_colunas.shape)\n",
    "\n"
   ]
  },
  {
   "cell_type": "markdown",
   "metadata": {},
   "source": [
    "### Dividir a classe tendo em conta as folds"
   ]
  },
  {
   "cell_type": "code",
   "execution_count": 77,
   "metadata": {},
   "outputs": [
    {
     "name": "stdout",
     "output_type": "stream",
     "text": [
      "X1 shape (784, 10000)\n"
     ]
    }
   ],
   "source": [
    "D = pickle.load(open('../comum/MNISTsmall.p', 'rb'))\n",
    "X = D['X']\n",
    "y = D['trueClass']\n",
    "f1 = D['foldTrain']\n",
    "f2 = D['foldTest']\n",
    "\n",
    "#Dividir a classe, aqui\n",
    "X1 = X[:,f1]\n",
    "X2 = X[:,f2]\n",
    "#Dividir a classe real entre dados de treino e dados de teste\n",
    "y1 = y[f1]\n",
    "y2 = y[f2]\n",
    "print('X1 shape' , X1.shape)"
   ]
  },
  {
   "cell_type": "markdown",
   "metadata": {},
   "source": [
    "# Fazer plot de uma classe do dataset"
   ]
  },
  {
   "cell_type": "code",
   "execution_count": 57,
   "metadata": {},
   "outputs": [
    {
     "data": {
      "image/png": "[encoded data removed]",
      "text/plain": [
       "<Figure size 432x288 with 1 Axes>"
      ]
     },
     "metadata": {
      "needs_background": "light"
     },
     "output_type": "display_data"
    }
   ],
   "source": [
    "plt.plot(X[y==1,0], X[y==1,1], '.')\n",
    "plt.axis('scaled')\n",
    "plt.grid(True)"
   ]
  },
  {
   "cell_type": "markdown",
   "metadata": {},
   "source": [
    "### Fazer plot de todas as classes, distintas por cor"
   ]
  },
  {
   "cell_type": "code",
   "execution_count": 59,
   "metadata": {},
   "outputs": [
    {
     "data": {
      "image/png": "[encoded data removed]",
      "text/plain": [
       "<Figure size 432x288 with 1 Axes>"
      ]
     },
     "metadata": {
      "needs_background": "light"
     },
     "output_type": "display_data"
    }
   ],
   "source": [
    "num_classes = 3\n",
    "for i in range(num_classes):\n",
    "    plt.plot(X[y==i,0], X[y==i,1], '.')\n",
    "plt.axis('scaled')\n",
    "plt.grid(True)"
   ]
  },
  {
   "cell_type": "markdown",
   "metadata": {},
   "source": [
    "### Media e desvio padrao de uma classe"
   ]
  },
  {
   "cell_type": "code",
   "execution_count": 62,
   "metadata": {},
   "outputs": [
    {
     "name": "stdout",
     "output_type": "stream",
     "text": [
      "[5.936 2.77  4.26  1.326]\n",
      "[0.51098337 0.31064449 0.46518813 0.19576517]\n"
     ]
    }
   ],
   "source": [
    "print(np.mean(X[y==1], axis=0))\n",
    "print(np.std(X[y==1], axis=0))"
   ]
  },
  {
   "cell_type": "markdown",
   "metadata": {},
   "source": []
  },
  {
   "cell_type": "code",
   "execution_count": null,
   "metadata": {},
   "outputs": [],
   "source": []
  }
 ],
 "metadata": {
  "kernelspec": {
   "display_name": "Python 3",
   "language": "python",
   "name": "python3"
  },
  "language_info": {
   "codemirror_mode": {
    "name": "ipython",
    "version": 3
   },
   "file_extension": ".py",
   "mimetype": "text/x-python",
   "name": "python",
   "nbconvert_exporter": "python",
   "pygments_lexer": "ipython3",
   "version": "3.8.5"
  }
 },
 "nbformat": 4,
 "nbformat_minor": 4
}
